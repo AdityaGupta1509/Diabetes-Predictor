{
 "cells": [
  {
   "cell_type": "markdown",
   "metadata": {},
   "source": [
    "## 2019 Diabetes Dataset Survey"
   ]
  },
  {
   "cell_type": "markdown",
   "metadata": {},
   "source": [
    "Task:\n",
    "    \n",
    "    1. naive bayes algorithm and KNN try. Add performance metrics. Research paper minimum 5.\n",
    "    2. implemntation process starts: ----> using input find whether diabetic or not \n",
    "    3. next dataset graph n relation to importance with diabetes"
   ]
  },
  {
   "cell_type": "markdown",
   "metadata": {
    "tags": []
   },
   "source": [
    "## About the Dataset"
   ]
  },
  {
   "cell_type": "markdown",
   "metadata": {},
   "source": [
    "### Importing necessary libraries"
   ]
  },
  {
   "cell_type": "code",
   "execution_count": 125,
   "metadata": {},
   "outputs": [],
   "source": [
    "import numpy as np\n",
    "import seaborn as sns\n",
    "import math\n",
    "import pandas as pd\n",
    "from sklearn.model_selection import train_test_split\n",
    "from sklearn import svm\n",
    "from sklearn.metrics import accuracy_score\n",
    "from sklearn.metrics import accuracy_score, precision_score, recall_score, f1_score, roc_auc_score, roc_curve, auc\n",
    "import matplotlib.pyplot as plt\n",
    "from sklearn.metrics import average_precision_score\n",
    "from sklearn.metrics import precision_recall_curve"
   ]
  },
  {
   "cell_type": "code",
   "execution_count": 2,
   "metadata": {},
   "outputs": [],
   "source": [
    "diabetes_data = pd.read_csv(\"diabetes_dataset__2019.csv\")"
   ]
  },
  {
   "cell_type": "code",
   "execution_count": 3,
   "metadata": {},
   "outputs": [
    {
     "data": {
      "text/html": [
       "<div>\n",
       "<style scoped>\n",
       "    .dataframe tbody tr th:only-of-type {\n",
       "        vertical-align: middle;\n",
       "    }\n",
       "\n",
       "    .dataframe tbody tr th {\n",
       "        vertical-align: top;\n",
       "    }\n",
       "\n",
       "    .dataframe thead th {\n",
       "        text-align: right;\n",
       "    }\n",
       "</style>\n",
       "<table border=\"1\" class=\"dataframe\">\n",
       "  <thead>\n",
       "    <tr style=\"text-align: right;\">\n",
       "      <th></th>\n",
       "      <th>Age</th>\n",
       "      <th>Gender</th>\n",
       "      <th>Family_Diabetes</th>\n",
       "      <th>highBP</th>\n",
       "      <th>PhysicallyActive</th>\n",
       "      <th>BMI</th>\n",
       "      <th>Smoking</th>\n",
       "      <th>Alcohol</th>\n",
       "      <th>Sleep</th>\n",
       "      <th>SoundSleep</th>\n",
       "      <th>RegularMedicine</th>\n",
       "      <th>JunkFood</th>\n",
       "      <th>Stress</th>\n",
       "      <th>BPLevel</th>\n",
       "      <th>Pregancies</th>\n",
       "      <th>Pdiabetes</th>\n",
       "      <th>UriationFreq</th>\n",
       "      <th>Diabetic</th>\n",
       "    </tr>\n",
       "  </thead>\n",
       "  <tbody>\n",
       "    <tr>\n",
       "      <th>0</th>\n",
       "      <td>50-59</td>\n",
       "      <td>Male</td>\n",
       "      <td>no</td>\n",
       "      <td>yes</td>\n",
       "      <td>one hr or more</td>\n",
       "      <td>39.0</td>\n",
       "      <td>no</td>\n",
       "      <td>no</td>\n",
       "      <td>8</td>\n",
       "      <td>6</td>\n",
       "      <td>no</td>\n",
       "      <td>occasionally</td>\n",
       "      <td>sometimes</td>\n",
       "      <td>high</td>\n",
       "      <td>0.0</td>\n",
       "      <td>0</td>\n",
       "      <td>not much</td>\n",
       "      <td>no</td>\n",
       "    </tr>\n",
       "    <tr>\n",
       "      <th>1</th>\n",
       "      <td>50-59</td>\n",
       "      <td>Male</td>\n",
       "      <td>no</td>\n",
       "      <td>yes</td>\n",
       "      <td>less than half an hr</td>\n",
       "      <td>28.0</td>\n",
       "      <td>no</td>\n",
       "      <td>no</td>\n",
       "      <td>8</td>\n",
       "      <td>6</td>\n",
       "      <td>yes</td>\n",
       "      <td>very often</td>\n",
       "      <td>sometimes</td>\n",
       "      <td>normal</td>\n",
       "      <td>0.0</td>\n",
       "      <td>0</td>\n",
       "      <td>not much</td>\n",
       "      <td>no</td>\n",
       "    </tr>\n",
       "    <tr>\n",
       "      <th>2</th>\n",
       "      <td>40-49</td>\n",
       "      <td>Male</td>\n",
       "      <td>no</td>\n",
       "      <td>no</td>\n",
       "      <td>one hr or more</td>\n",
       "      <td>24.0</td>\n",
       "      <td>no</td>\n",
       "      <td>no</td>\n",
       "      <td>6</td>\n",
       "      <td>6</td>\n",
       "      <td>no</td>\n",
       "      <td>occasionally</td>\n",
       "      <td>sometimes</td>\n",
       "      <td>normal</td>\n",
       "      <td>0.0</td>\n",
       "      <td>0</td>\n",
       "      <td>not much</td>\n",
       "      <td>no</td>\n",
       "    </tr>\n",
       "    <tr>\n",
       "      <th>3</th>\n",
       "      <td>50-59</td>\n",
       "      <td>Male</td>\n",
       "      <td>no</td>\n",
       "      <td>no</td>\n",
       "      <td>one hr or more</td>\n",
       "      <td>23.0</td>\n",
       "      <td>no</td>\n",
       "      <td>no</td>\n",
       "      <td>8</td>\n",
       "      <td>6</td>\n",
       "      <td>no</td>\n",
       "      <td>occasionally</td>\n",
       "      <td>sometimes</td>\n",
       "      <td>normal</td>\n",
       "      <td>0.0</td>\n",
       "      <td>0</td>\n",
       "      <td>not much</td>\n",
       "      <td>no</td>\n",
       "    </tr>\n",
       "    <tr>\n",
       "      <th>4</th>\n",
       "      <td>40-49</td>\n",
       "      <td>Male</td>\n",
       "      <td>no</td>\n",
       "      <td>no</td>\n",
       "      <td>less than half an hr</td>\n",
       "      <td>27.0</td>\n",
       "      <td>no</td>\n",
       "      <td>no</td>\n",
       "      <td>8</td>\n",
       "      <td>8</td>\n",
       "      <td>no</td>\n",
       "      <td>occasionally</td>\n",
       "      <td>sometimes</td>\n",
       "      <td>normal</td>\n",
       "      <td>0.0</td>\n",
       "      <td>0</td>\n",
       "      <td>not much</td>\n",
       "      <td>no</td>\n",
       "    </tr>\n",
       "  </tbody>\n",
       "</table>\n",
       "</div>"
      ],
      "text/plain": [
       "     Age Gender Family_Diabetes highBP      PhysicallyActive   BMI Smoking  \\\n",
       "0  50-59   Male              no    yes        one hr or more  39.0      no   \n",
       "1  50-59   Male              no    yes  less than half an hr  28.0      no   \n",
       "2  40-49   Male              no     no        one hr or more  24.0      no   \n",
       "3  50-59   Male              no     no        one hr or more  23.0      no   \n",
       "4  40-49   Male              no     no  less than half an hr  27.0      no   \n",
       "\n",
       "  Alcohol  Sleep  SoundSleep RegularMedicine      JunkFood     Stress BPLevel  \\\n",
       "0      no      8           6              no  occasionally  sometimes    high   \n",
       "1      no      8           6             yes    very often  sometimes  normal   \n",
       "2      no      6           6              no  occasionally  sometimes  normal   \n",
       "3      no      8           6              no  occasionally  sometimes  normal   \n",
       "4      no      8           8              no  occasionally  sometimes  normal   \n",
       "\n",
       "   Pregancies Pdiabetes UriationFreq Diabetic  \n",
       "0         0.0         0     not much       no  \n",
       "1         0.0         0     not much       no  \n",
       "2         0.0         0     not much       no  \n",
       "3         0.0         0     not much       no  \n",
       "4         0.0         0     not much       no  "
      ]
     },
     "execution_count": 3,
     "metadata": {},
     "output_type": "execute_result"
    }
   ],
   "source": [
    "diabetes_data.head()"
   ]
  },
  {
   "cell_type": "code",
   "execution_count": 4,
   "metadata": {},
   "outputs": [
    {
     "data": {
      "text/plain": [
       "(952, 18)"
      ]
     },
     "execution_count": 4,
     "metadata": {},
     "output_type": "execute_result"
    }
   ],
   "source": [
    "diabetes_data.shape"
   ]
  },
  {
   "cell_type": "code",
   "execution_count": 5,
   "metadata": {},
   "outputs": [
    {
     "data": {
      "text/plain": [
       "<bound method NDFrame.describe of               Age  Gender Family_Diabetes highBP      PhysicallyActive   BMI  \\\n",
       "0           50-59    Male              no    yes        one hr or more  39.0   \n",
       "1           50-59    Male              no    yes  less than half an hr  28.0   \n",
       "2           40-49    Male              no     no        one hr or more  24.0   \n",
       "3           50-59    Male              no     no        one hr or more  23.0   \n",
       "4           40-49    Male              no     no  less than half an hr  27.0   \n",
       "..            ...     ...             ...    ...                   ...   ...   \n",
       "947  less than 40    Male             yes     no  more than half an hr  25.0   \n",
       "948   60 or older    Male             yes    yes  more than half an hr  27.0   \n",
       "949   60 or older    Male              no    yes                  none  23.0   \n",
       "950   60 or older    Male              no    yes  less than half an hr  27.0   \n",
       "951   60 or older  Female             yes    yes        one hr or more  30.0   \n",
       "\n",
       "    Smoking Alcohol  Sleep  SoundSleep RegularMedicine      JunkFood  \\\n",
       "0        no      no      8           6              no  occasionally   \n",
       "1        no      no      8           6             yes    very often   \n",
       "2        no      no      6           6              no  occasionally   \n",
       "3        no      no      8           6              no  occasionally   \n",
       "4        no      no      8           8              no  occasionally   \n",
       "..      ...     ...    ...         ...             ...           ...   \n",
       "947      no      no      8           6              no         often   \n",
       "948      no      no      6           5             yes  occasionally   \n",
       "949      no      no      6           5             yes  occasionally   \n",
       "950      no     yes      6           5             yes  occasionally   \n",
       "951      no      no      7           4             yes  occasionally   \n",
       "\n",
       "         Stress BPLevel  Pregancies Pdiabetes UriationFreq Diabetic  \n",
       "0     sometimes    high         0.0         0     not much       no  \n",
       "1     sometimes  normal         0.0         0     not much       no  \n",
       "2     sometimes  normal         0.0         0     not much       no  \n",
       "3     sometimes  normal         0.0         0     not much       no  \n",
       "4     sometimes  normal         0.0         0     not much       no  \n",
       "..          ...     ...         ...       ...          ...      ...  \n",
       "947   sometimes  normal         0.0         0     not much      yes  \n",
       "948   sometimes    high         0.0         0  quite often      yes  \n",
       "949   sometimes    high         0.0         0     not much       no  \n",
       "950  very often    high         0.0         0     not much       no  \n",
       "951   sometimes    high         2.0         0  quite often      yes  \n",
       "\n",
       "[952 rows x 18 columns]>"
      ]
     },
     "execution_count": 5,
     "metadata": {},
     "output_type": "execute_result"
    }
   ],
   "source": [
    "diabetes_data.describe"
   ]
  },
  {
   "cell_type": "code",
   "execution_count": 6,
   "metadata": {},
   "outputs": [
    {
     "data": {
      "text/plain": [
       "Index(['Age', 'Gender', 'Family_Diabetes', 'highBP', 'PhysicallyActive', 'BMI',\n",
       "       'Smoking', 'Alcohol', 'Sleep', 'SoundSleep', 'RegularMedicine',\n",
       "       'JunkFood', 'Stress', 'BPLevel', 'Pregancies', 'Pdiabetes',\n",
       "       'UriationFreq', 'Diabetic'],\n",
       "      dtype='object')"
      ]
     },
     "execution_count": 6,
     "metadata": {},
     "output_type": "execute_result"
    }
   ],
   "source": [
    "diabetes_data.columns"
   ]
  },
  {
   "cell_type": "markdown",
   "metadata": {},
   "source": [
    "### Column Description"
   ]
  },
  {
   "cell_type": "code",
   "execution_count": 7,
   "metadata": {},
   "outputs": [
    {
     "data": {
      "text/plain": [
       "no     684\n",
       "yes    266\n",
       " no      1\n",
       "Name: Diabetic, dtype: int64"
      ]
     },
     "execution_count": 7,
     "metadata": {},
     "output_type": "execute_result"
    }
   ],
   "source": [
    "diabetes_data['Diabetic'].value_counts()"
   ]
  },
  {
   "cell_type": "code",
   "execution_count": 8,
   "metadata": {},
   "outputs": [
    {
     "data": {
      "text/html": [
       "<div>\n",
       "<style scoped>\n",
       "    .dataframe tbody tr th:only-of-type {\n",
       "        vertical-align: middle;\n",
       "    }\n",
       "\n",
       "    .dataframe tbody tr th {\n",
       "        vertical-align: top;\n",
       "    }\n",
       "\n",
       "    .dataframe thead th {\n",
       "        text-align: right;\n",
       "    }\n",
       "</style>\n",
       "<table border=\"1\" class=\"dataframe\">\n",
       "  <thead>\n",
       "    <tr style=\"text-align: right;\">\n",
       "      <th></th>\n",
       "      <th>BMI</th>\n",
       "      <th>Sleep</th>\n",
       "      <th>SoundSleep</th>\n",
       "      <th>Pregancies</th>\n",
       "    </tr>\n",
       "    <tr>\n",
       "      <th>Diabetic</th>\n",
       "      <th></th>\n",
       "      <th></th>\n",
       "      <th></th>\n",
       "      <th></th>\n",
       "    </tr>\n",
       "  </thead>\n",
       "  <tbody>\n",
       "    <tr>\n",
       "      <th>no</th>\n",
       "      <td>24.000000</td>\n",
       "      <td>6.000000</td>\n",
       "      <td>6.00000</td>\n",
       "      <td>2.000000</td>\n",
       "    </tr>\n",
       "    <tr>\n",
       "      <th>no</th>\n",
       "      <td>25.346041</td>\n",
       "      <td>7.002924</td>\n",
       "      <td>5.49269</td>\n",
       "      <td>0.250000</td>\n",
       "    </tr>\n",
       "    <tr>\n",
       "      <th>yes</th>\n",
       "      <td>26.845283</td>\n",
       "      <td>6.815789</td>\n",
       "      <td>5.50000</td>\n",
       "      <td>0.715909</td>\n",
       "    </tr>\n",
       "  </tbody>\n",
       "</table>\n",
       "</div>"
      ],
      "text/plain": [
       "                BMI     Sleep  SoundSleep  Pregancies\n",
       "Diabetic                                             \n",
       " no       24.000000  6.000000     6.00000    2.000000\n",
       "no        25.346041  7.002924     5.49269    0.250000\n",
       "yes       26.845283  6.815789     5.50000    0.715909"
      ]
     },
     "execution_count": 8,
     "metadata": {},
     "output_type": "execute_result"
    }
   ],
   "source": [
    "diabetes_data.groupby('Diabetic').mean()"
   ]
  },
  {
   "cell_type": "markdown",
   "metadata": {},
   "source": [
    "### Imputing the NaN values"
   ]
  },
  {
   "cell_type": "code",
   "execution_count": 9,
   "metadata": {},
   "outputs": [],
   "source": [
    "from sklearn.impute import SimpleImputer\n",
    "imp_mode = SimpleImputer(missing_values=np.nan, strategy='most_frequent')"
   ]
  },
  {
   "cell_type": "code",
   "execution_count": 10,
   "metadata": {
    "scrolled": true
   },
   "outputs": [
    {
     "data": {
      "text/html": [
       "<div>\n",
       "<style scoped>\n",
       "    .dataframe tbody tr th:only-of-type {\n",
       "        vertical-align: middle;\n",
       "    }\n",
       "\n",
       "    .dataframe tbody tr th {\n",
       "        vertical-align: top;\n",
       "    }\n",
       "\n",
       "    .dataframe thead th {\n",
       "        text-align: right;\n",
       "    }\n",
       "</style>\n",
       "<table border=\"1\" class=\"dataframe\">\n",
       "  <thead>\n",
       "    <tr style=\"text-align: right;\">\n",
       "      <th></th>\n",
       "      <th>Age</th>\n",
       "      <th>Gender</th>\n",
       "      <th>Family_Diabetes</th>\n",
       "      <th>highBP</th>\n",
       "      <th>PhysicallyActive</th>\n",
       "      <th>BMI</th>\n",
       "      <th>Smoking</th>\n",
       "      <th>Alcohol</th>\n",
       "      <th>Sleep</th>\n",
       "      <th>SoundSleep</th>\n",
       "      <th>RegularMedicine</th>\n",
       "      <th>JunkFood</th>\n",
       "      <th>Stress</th>\n",
       "      <th>BPLevel</th>\n",
       "      <th>Pregancies</th>\n",
       "      <th>Pdiabetes</th>\n",
       "      <th>UriationFreq</th>\n",
       "      <th>Diabetic</th>\n",
       "    </tr>\n",
       "  </thead>\n",
       "  <tbody>\n",
       "    <tr>\n",
       "      <th>0</th>\n",
       "      <td>50-59</td>\n",
       "      <td>Male</td>\n",
       "      <td>no</td>\n",
       "      <td>yes</td>\n",
       "      <td>one hr or more</td>\n",
       "      <td>39</td>\n",
       "      <td>no</td>\n",
       "      <td>no</td>\n",
       "      <td>8</td>\n",
       "      <td>6</td>\n",
       "      <td>no</td>\n",
       "      <td>occasionally</td>\n",
       "      <td>sometimes</td>\n",
       "      <td>high</td>\n",
       "      <td>0</td>\n",
       "      <td>0</td>\n",
       "      <td>not much</td>\n",
       "      <td>no</td>\n",
       "    </tr>\n",
       "    <tr>\n",
       "      <th>1</th>\n",
       "      <td>50-59</td>\n",
       "      <td>Male</td>\n",
       "      <td>no</td>\n",
       "      <td>yes</td>\n",
       "      <td>less than half an hr</td>\n",
       "      <td>28</td>\n",
       "      <td>no</td>\n",
       "      <td>no</td>\n",
       "      <td>8</td>\n",
       "      <td>6</td>\n",
       "      <td>yes</td>\n",
       "      <td>very often</td>\n",
       "      <td>sometimes</td>\n",
       "      <td>normal</td>\n",
       "      <td>0</td>\n",
       "      <td>0</td>\n",
       "      <td>not much</td>\n",
       "      <td>no</td>\n",
       "    </tr>\n",
       "    <tr>\n",
       "      <th>2</th>\n",
       "      <td>40-49</td>\n",
       "      <td>Male</td>\n",
       "      <td>no</td>\n",
       "      <td>no</td>\n",
       "      <td>one hr or more</td>\n",
       "      <td>24</td>\n",
       "      <td>no</td>\n",
       "      <td>no</td>\n",
       "      <td>6</td>\n",
       "      <td>6</td>\n",
       "      <td>no</td>\n",
       "      <td>occasionally</td>\n",
       "      <td>sometimes</td>\n",
       "      <td>normal</td>\n",
       "      <td>0</td>\n",
       "      <td>0</td>\n",
       "      <td>not much</td>\n",
       "      <td>no</td>\n",
       "    </tr>\n",
       "    <tr>\n",
       "      <th>3</th>\n",
       "      <td>50-59</td>\n",
       "      <td>Male</td>\n",
       "      <td>no</td>\n",
       "      <td>no</td>\n",
       "      <td>one hr or more</td>\n",
       "      <td>23</td>\n",
       "      <td>no</td>\n",
       "      <td>no</td>\n",
       "      <td>8</td>\n",
       "      <td>6</td>\n",
       "      <td>no</td>\n",
       "      <td>occasionally</td>\n",
       "      <td>sometimes</td>\n",
       "      <td>normal</td>\n",
       "      <td>0</td>\n",
       "      <td>0</td>\n",
       "      <td>not much</td>\n",
       "      <td>no</td>\n",
       "    </tr>\n",
       "    <tr>\n",
       "      <th>4</th>\n",
       "      <td>40-49</td>\n",
       "      <td>Male</td>\n",
       "      <td>no</td>\n",
       "      <td>no</td>\n",
       "      <td>less than half an hr</td>\n",
       "      <td>27</td>\n",
       "      <td>no</td>\n",
       "      <td>no</td>\n",
       "      <td>8</td>\n",
       "      <td>8</td>\n",
       "      <td>no</td>\n",
       "      <td>occasionally</td>\n",
       "      <td>sometimes</td>\n",
       "      <td>normal</td>\n",
       "      <td>0</td>\n",
       "      <td>0</td>\n",
       "      <td>not much</td>\n",
       "      <td>no</td>\n",
       "    </tr>\n",
       "  </tbody>\n",
       "</table>\n",
       "</div>"
      ],
      "text/plain": [
       "     Age Gender Family_Diabetes highBP      PhysicallyActive BMI Smoking  \\\n",
       "0  50-59   Male              no    yes        one hr or more  39      no   \n",
       "1  50-59   Male              no    yes  less than half an hr  28      no   \n",
       "2  40-49   Male              no     no        one hr or more  24      no   \n",
       "3  50-59   Male              no     no        one hr or more  23      no   \n",
       "4  40-49   Male              no     no  less than half an hr  27      no   \n",
       "\n",
       "  Alcohol Sleep SoundSleep RegularMedicine      JunkFood     Stress BPLevel  \\\n",
       "0      no     8          6              no  occasionally  sometimes    high   \n",
       "1      no     8          6             yes    very often  sometimes  normal   \n",
       "2      no     6          6              no  occasionally  sometimes  normal   \n",
       "3      no     8          6              no  occasionally  sometimes  normal   \n",
       "4      no     8          8              no  occasionally  sometimes  normal   \n",
       "\n",
       "  Pregancies Pdiabetes UriationFreq Diabetic  \n",
       "0          0         0     not much       no  \n",
       "1          0         0     not much       no  \n",
       "2          0         0     not much       no  \n",
       "3          0         0     not much       no  \n",
       "4          0         0     not much       no  "
      ]
     },
     "execution_count": 10,
     "metadata": {},
     "output_type": "execute_result"
    }
   ],
   "source": [
    "diabetes_imputed = pd.DataFrame(imp_mode.fit_transform(diabetes_data))\n",
    "diabetes_imputed.columns = diabetes_data.columns\n",
    "diabetes_imputed.head()"
   ]
  },
  {
   "cell_type": "code",
   "execution_count": 11,
   "metadata": {},
   "outputs": [
    {
     "data": {
      "text/plain": [
       "Age                 0\n",
       "Gender              0\n",
       "Family_Diabetes     0\n",
       "highBP              0\n",
       "PhysicallyActive    0\n",
       "BMI                 0\n",
       "Smoking             0\n",
       "Alcohol             0\n",
       "Sleep               0\n",
       "SoundSleep          0\n",
       "RegularMedicine     0\n",
       "JunkFood            0\n",
       "Stress              0\n",
       "BPLevel             0\n",
       "Pregancies          0\n",
       "Pdiabetes           0\n",
       "UriationFreq        0\n",
       "Diabetic            0\n",
       "dtype: int64"
      ]
     },
     "execution_count": 11,
     "metadata": {},
     "output_type": "execute_result"
    }
   ],
   "source": [
    "diabetes_imputed.isnull().sum()"
   ]
  },
  {
   "cell_type": "code",
   "execution_count": 12,
   "metadata": {},
   "outputs": [
    {
     "data": {
      "text/plain": [
       "0       no\n",
       "1       no\n",
       "2       no\n",
       "3       no\n",
       "4       no\n",
       "      ... \n",
       "947    yes\n",
       "948    yes\n",
       "949     no\n",
       "950     no\n",
       "951    yes\n",
       "Name: Diabetic, Length: 952, dtype: object"
      ]
     },
     "execution_count": 12,
     "metadata": {},
     "output_type": "execute_result"
    }
   ],
   "source": [
    "diabetes_imputed['Diabetic']"
   ]
  },
  {
   "cell_type": "markdown",
   "metadata": {},
   "source": [
    "### LABEL ENCODING"
   ]
  },
  {
   "cell_type": "code",
   "execution_count": 13,
   "metadata": {},
   "outputs": [
    {
     "data": {
      "text/plain": [
       "0       no\n",
       "1       no\n",
       "2       no\n",
       "3       no\n",
       "4       no\n",
       "      ... \n",
       "947    yes\n",
       "948    yes\n",
       "949     no\n",
       "950     no\n",
       "951    yes\n",
       "Name: Diabetic, Length: 952, dtype: object"
      ]
     },
     "execution_count": 13,
     "metadata": {},
     "output_type": "execute_result"
    }
   ],
   "source": [
    "diabetes_imputed['Diabetic']"
   ]
  },
  {
   "cell_type": "code",
   "execution_count": 14,
   "metadata": {},
   "outputs": [],
   "source": [
    "from sklearn.preprocessing import LabelEncoder"
   ]
  },
  {
   "cell_type": "code",
   "execution_count": 15,
   "metadata": {},
   "outputs": [],
   "source": [
    "le = LabelEncoder()"
   ]
  },
  {
   "cell_type": "code",
   "execution_count": 16,
   "metadata": {},
   "outputs": [
    {
     "data": {
      "text/plain": [
       "LabelEncoder()"
      ]
     },
     "execution_count": 16,
     "metadata": {},
     "output_type": "execute_result"
    }
   ],
   "source": [
    "le.fit(diabetes_imputed['Diabetic'])"
   ]
  },
  {
   "cell_type": "code",
   "execution_count": 17,
   "metadata": {},
   "outputs": [],
   "source": [
    "diabetes_imputed['Diabetic'] = le.transform(diabetes_imputed['Diabetic'])"
   ]
  },
  {
   "cell_type": "code",
   "execution_count": 18,
   "metadata": {},
   "outputs": [
    {
     "data": {
      "text/plain": [
       "0      1\n",
       "1      1\n",
       "2      1\n",
       "3      1\n",
       "4      1\n",
       "      ..\n",
       "947    2\n",
       "948    2\n",
       "949    1\n",
       "950    1\n",
       "951    2\n",
       "Name: Diabetic, Length: 952, dtype: int32"
      ]
     },
     "execution_count": 18,
     "metadata": {},
     "output_type": "execute_result"
    }
   ],
   "source": [
    "diabetes_imputed['Diabetic']"
   ]
  },
  {
   "cell_type": "code",
   "execution_count": 19,
   "metadata": {},
   "outputs": [],
   "source": [
    "#diabetes_imputed['Diabetic'].replace('2','0', inplace=True)"
   ]
  },
  {
   "cell_type": "code",
   "execution_count": 20,
   "metadata": {},
   "outputs": [
    {
     "name": "stdout",
     "output_type": "stream",
     "text": [
      "              Age  Gender Family_Diabetes highBP      PhysicallyActive BMI  \\\n",
      "0           50-59    Male              no    yes        one hr or more  39   \n",
      "1           50-59    Male              no    yes  less than half an hr  28   \n",
      "2           40-49    Male              no     no        one hr or more  24   \n",
      "3           50-59    Male              no     no        one hr or more  23   \n",
      "4           40-49    Male              no     no  less than half an hr  27   \n",
      "..            ...     ...             ...    ...                   ...  ..   \n",
      "947  less than 40    Male             yes     no  more than half an hr  25   \n",
      "948   60 or older    Male             yes    yes  more than half an hr  27   \n",
      "949   60 or older    Male              no    yes                  none  23   \n",
      "950   60 or older    Male              no    yes  less than half an hr  27   \n",
      "951   60 or older  Female             yes    yes        one hr or more  30   \n",
      "\n",
      "    Smoking Alcohol Sleep SoundSleep RegularMedicine      JunkFood  \\\n",
      "0        no      no     8          6              no  occasionally   \n",
      "1        no      no     8          6             yes    very often   \n",
      "2        no      no     6          6              no  occasionally   \n",
      "3        no      no     8          6              no  occasionally   \n",
      "4        no      no     8          8              no  occasionally   \n",
      "..      ...     ...   ...        ...             ...           ...   \n",
      "947      no      no     8          6              no         often   \n",
      "948      no      no     6          5             yes  occasionally   \n",
      "949      no      no     6          5             yes  occasionally   \n",
      "950      no     yes     6          5             yes  occasionally   \n",
      "951      no      no     7          4             yes  occasionally   \n",
      "\n",
      "         Stress BPLevel Pregancies Pdiabetes UriationFreq  Diabetic  \n",
      "0     sometimes    high          0         0     not much         1  \n",
      "1     sometimes  normal          0         0     not much         1  \n",
      "2     sometimes  normal          0         0     not much         1  \n",
      "3     sometimes  normal          0         0     not much         1  \n",
      "4     sometimes  normal          0         0     not much         1  \n",
      "..          ...     ...        ...       ...          ...       ...  \n",
      "947   sometimes  normal          0         0     not much         2  \n",
      "948   sometimes    high          0         0  quite often         2  \n",
      "949   sometimes    high          0         0     not much         1  \n",
      "950  very often    high          0         0     not much         1  \n",
      "951   sometimes    high          2         0  quite often         2  \n",
      "\n",
      "[951 rows x 18 columns]\n"
     ]
    }
   ],
   "source": [
    "diabetes_imputed = pd.DataFrame(diabetes_imputed)\n",
    "\n",
    "# Drop rows where 'Column_Name' equals 'value_to_drop'\n",
    "diabetes_imputed = diabetes_imputed[diabetes_imputed['Diabetic'] != 0]\n",
    "\n",
    "# Display the modified DataFrame\n",
    "print(diabetes_imputed)"
   ]
  },
  {
   "cell_type": "markdown",
   "metadata": {},
   "source": [
    "#### 1 represents a NO (Person is not diabetic)\n",
    "\n",
    "#### 2 represents a YES (Person is diabetic)"
   ]
  },
  {
   "cell_type": "code",
   "execution_count": 21,
   "metadata": {},
   "outputs": [
    {
     "data": {
      "text/plain": [
       "{15.0,\n",
       " 17.0,\n",
       " 18.0,\n",
       " 19.0,\n",
       " 20.0,\n",
       " 21.0,\n",
       " 22.0,\n",
       " 23.0,\n",
       " 24.0,\n",
       " 25.0,\n",
       " 26.0,\n",
       " 27.0,\n",
       " 28.0,\n",
       " 29.0,\n",
       " 30.0,\n",
       " 31.0,\n",
       " 32.0,\n",
       " 33.0,\n",
       " 34.0,\n",
       " 35.0,\n",
       " 36.0,\n",
       " 38.0,\n",
       " 39.0,\n",
       " 40.0,\n",
       " 42.0,\n",
       " 45.0}"
      ]
     },
     "execution_count": 21,
     "metadata": {},
     "output_type": "execute_result"
    }
   ],
   "source": [
    "set(diabetes_imputed['BMI'].tolist())"
   ]
  },
  {
   "cell_type": "code",
   "execution_count": 22,
   "metadata": {},
   "outputs": [
    {
     "data": {
      "text/plain": [
       "{nan,\n",
       " nan,\n",
       " nan,\n",
       " nan,\n",
       " 15.0,\n",
       " 17.0,\n",
       " 18.0,\n",
       " 19.0,\n",
       " 20.0,\n",
       " 21.0,\n",
       " 22.0,\n",
       " 23.0,\n",
       " 24.0,\n",
       " 25.0,\n",
       " 26.0,\n",
       " 27.0,\n",
       " 28.0,\n",
       " 29.0,\n",
       " 30.0,\n",
       " 31.0,\n",
       " 32.0,\n",
       " 33.0,\n",
       " 34.0,\n",
       " 35.0,\n",
       " 36.0,\n",
       " 38.0,\n",
       " 39.0,\n",
       " 40.0,\n",
       " 42.0,\n",
       " 45.0}"
      ]
     },
     "execution_count": 22,
     "metadata": {},
     "output_type": "execute_result"
    }
   ],
   "source": [
    "set(diabetes_data['BMI'].tolist())"
   ]
  },
  {
   "cell_type": "markdown",
   "metadata": {},
   "source": [
    "### Printing all the unique values"
   ]
  },
  {
   "cell_type": "code",
   "execution_count": 23,
   "metadata": {},
   "outputs": [
    {
     "name": "stdout",
     "output_type": "stream",
     "text": [
      "## Age ##\n",
      "{'less than 40', '60 or older', '50-59', '40-49'}\n",
      "## Gender ##\n",
      "{'Female', 'Male'}\n",
      "## Family_Diabetes ##\n",
      "{'no', 'yes'}\n",
      "## highBP ##\n",
      "{'no', 'yes'}\n",
      "## PhysicallyActive ##\n",
      "{'less than half an hr', 'none', 'one hr or more', 'more than half an hr'}\n",
      "## BMI ##\n",
      "{15.0, 17.0, 18.0, 19.0, 20.0, 21.0, 22.0, 23.0, 24.0, 25.0, 26.0, 27.0, 28.0, 29.0, 30.0, 31.0, 32.0, 33.0, 34.0, 35.0, 36.0, 38.0, 39.0, 40.0, 42.0, 45.0}\n",
      "## Smoking ##\n",
      "{'no', 'yes'}\n",
      "## Alcohol ##\n",
      "{'no', 'yes'}\n",
      "## Sleep ##\n",
      "{4, 5, 6, 7, 8, 9, 10, 11}\n",
      "## SoundSleep ##\n",
      "{0, 1, 2, 3, 4, 5, 6, 7, 8, 9, 10, 11}\n",
      "## RegularMedicine ##\n",
      "{'no', 'o', 'yes'}\n",
      "## JunkFood ##\n",
      "{'very often', 'occasionally', 'always', 'often'}\n",
      "## Stress ##\n",
      "{'very often', 'always', 'not at all', 'sometimes'}\n",
      "## BPLevel ##\n",
      "{'high', 'High', 'Low', 'low', 'normal', 'normal '}\n",
      "## Pregancies ##\n",
      "{0.0, 1.0, 2.0, 3.0, 4.0}\n",
      "## Pdiabetes ##\n",
      "{'no', 'yes', '0'}\n",
      "## UriationFreq ##\n",
      "{'not much', 'quite often'}\n",
      "## Diabetic ##\n",
      "{1, 2}\n"
     ]
    }
   ],
   "source": [
    "for i in diabetes_imputed.columns:\n",
    "    print(\"##\", i , \"##\")\n",
    "    print(set(diabetes_imputed[i].tolist()))"
   ]
  },
  {
   "cell_type": "markdown",
   "metadata": {},
   "source": [
    "#### Separating the Labels"
   ]
  },
  {
   "cell_type": "code",
   "execution_count": 24,
   "metadata": {},
   "outputs": [],
   "source": [
    "#X = diabetes_imputed.drop(columns = 'Diabetic', axis=1)\n",
    "#Y = diabetes_imputed['Diabetic']"
   ]
  },
  {
   "cell_type": "code",
   "execution_count": 25,
   "metadata": {},
   "outputs": [],
   "source": [
    "#print(X)"
   ]
  },
  {
   "cell_type": "code",
   "execution_count": 26,
   "metadata": {},
   "outputs": [],
   "source": [
    "#print(Y)"
   ]
  },
  {
   "cell_type": "markdown",
   "metadata": {},
   "source": [
    "#### where 1 represents the person is not diabetic and 2 represents the person is diabetic."
   ]
  },
  {
   "cell_type": "markdown",
   "metadata": {},
   "source": [
    "### Feature Selection"
   ]
  },
  {
   "cell_type": "code",
   "execution_count": 27,
   "metadata": {},
   "outputs": [],
   "source": [
    "from sklearn.feature_selection import SelectKBest\n",
    "from sklearn.feature_selection import chi2"
   ]
  },
  {
   "cell_type": "code",
   "execution_count": 28,
   "metadata": {},
   "outputs": [],
   "source": [
    "# chi_best = SelectKBest(score_func=chi2 , k = 4)\n",
    "# k_best = chi_best.fit(X,Y)"
   ]
  },
  {
   "cell_type": "code",
   "execution_count": 29,
   "metadata": {},
   "outputs": [
    {
     "name": "stdout",
     "output_type": "stream",
     "text": [
      "Value of each column\n",
      "\n",
      "\n",
      "Age\n",
      "less than 40    487\n",
      "40-49           164\n",
      "50-59           156\n",
      "60 or older     144\n",
      "Name: Age, dtype: int64\n",
      "Count of unique values using a set: 3\n",
      "\n",
      "\n",
      "Gender\n",
      "Male      580\n",
      "Female    371\n",
      "Name: Gender, dtype: int64\n",
      "Count of unique values using a set: 5\n",
      "\n",
      "\n",
      "Family_Diabetes\n",
      "no     497\n",
      "yes    454\n",
      "Name: Family_Diabetes, dtype: int64\n",
      "Count of unique values using a set: 12\n",
      "\n",
      "\n",
      "highBP\n",
      "no     723\n",
      "yes    228\n",
      "Name: highBP, dtype: int64\n",
      "Count of unique values using a set: 5\n",
      "\n",
      "\n",
      "PhysicallyActive\n",
      "less than half an hr    336\n",
      "more than half an hr    271\n",
      "one hr or more          212\n",
      "none                    132\n",
      "Name: PhysicallyActive, dtype: int64\n",
      "Count of unique values using a set: 12\n",
      "\n",
      "\n",
      "BMI\n",
      "24.0    114\n",
      "21.0     88\n",
      "23.0     76\n",
      "28.0     71\n",
      "26.0     66\n",
      "33.0     64\n",
      "27.0     63\n",
      "22.0     58\n",
      "20.0     48\n",
      "19.0     36\n",
      "25.0     34\n",
      "30.0     33\n",
      "18.0     32\n",
      "38.0     28\n",
      "29.0     28\n",
      "36.0     20\n",
      "32.0     16\n",
      "17.0     16\n",
      "31.0     16\n",
      "34.0     12\n",
      "35.0     12\n",
      "15.0      8\n",
      "39.0      4\n",
      "40.0      4\n",
      "42.0      3\n",
      "45.0      1\n",
      "Name: BMI, dtype: int64\n",
      "Count of unique values using a set: 3\n",
      "\n",
      "\n",
      "Smoking\n",
      "no     843\n",
      "yes    108\n",
      "Name: Smoking, dtype: int64\n",
      "Count of unique values using a set: 7\n",
      "\n",
      "\n",
      "Alcohol\n",
      "no     759\n",
      "yes    192\n",
      "Name: Alcohol, dtype: int64\n",
      "Count of unique values using a set: 5\n",
      "\n",
      "\n",
      "Sleep\n",
      "7     264\n",
      "8     256\n",
      "6     255\n",
      "5      68\n",
      "9      48\n",
      "4      32\n",
      "10     24\n",
      "11      4\n",
      "Name: Sleep, dtype: int64\n",
      "Count of unique values using a set: 4\n",
      "\n",
      "\n",
      "SoundSleep\n",
      "6     227\n",
      "4     188\n",
      "5     156\n",
      "8     120\n",
      "7     104\n",
      "3      68\n",
      "2      44\n",
      "10     16\n",
      "9      16\n",
      "11      4\n",
      "1       4\n",
      "0       4\n",
      "Name: SoundSleep, dtype: int64\n",
      "Count of unique values using a set: 8\n",
      "\n",
      "\n",
      "RegularMedicine\n",
      "no     614\n",
      "yes    336\n",
      "o        1\n",
      "Name: RegularMedicine, dtype: int64\n",
      "Count of unique values using a set: 12\n",
      "\n",
      "\n",
      "JunkFood\n",
      "occasionally    671\n",
      "often           184\n",
      "very often       52\n",
      "always           44\n",
      "Name: JunkFood, dtype: int64\n",
      "Count of unique values using a set: 7\n",
      "\n",
      "\n",
      "Stress\n",
      "sometimes     563\n",
      "very often    164\n",
      "not at all    136\n",
      "always         88\n",
      "Name: Stress, dtype: int64\n",
      "Count of unique values using a set: 5\n",
      "\n",
      "\n",
      "BPLevel\n",
      "normal     706\n",
      "high       211\n",
      "low         25\n",
      "High         5\n",
      "Low          3\n",
      "normal       1\n",
      "Name: BPLevel, dtype: int64\n",
      "Count of unique values using a set: 6\n",
      "\n",
      "\n",
      "Pregancies\n",
      "0.0    796\n",
      "2.0     63\n",
      "3.0     60\n",
      "1.0     28\n",
      "4.0      4\n",
      "Name: Pregancies, dtype: int64\n",
      "Count of unique values using a set: 9\n",
      "\n",
      "\n",
      "Pdiabetes\n",
      "0      936\n",
      "yes     14\n",
      "no       1\n",
      "Name: Pdiabetes, dtype: int64\n",
      "Count of unique values using a set: 8\n",
      "\n",
      "\n",
      "UriationFreq\n",
      "not much       664\n",
      "quite often    287\n",
      "Name: UriationFreq, dtype: int64\n",
      "Count of unique values using a set: 10\n",
      "\n",
      "\n",
      "Diabetic\n",
      "1    685\n",
      "2    266\n",
      "Name: Diabetic, dtype: int64\n",
      "Count of unique values using a set: 7\n",
      "\n",
      "\n"
     ]
    }
   ],
   "source": [
    "print('Value of each column')\n",
    "print('\\n')\n",
    "for col in diabetes_imputed.columns:\n",
    "    print(col)\n",
    "    print(diabetes_imputed[col].value_counts())\n",
    "    unique_set = set(col)\n",
    "    unique_count = len(unique_set)\n",
    "    print(\"Count of unique values using a set:\", unique_count)\n",
    "    print(\"\\n\")"
   ]
  },
  {
   "cell_type": "code",
   "execution_count": 30,
   "metadata": {},
   "outputs": [],
   "source": [
    "diabetes_imputed['Age'].replace('less than 40','0-40', inplace=True)\n",
    "\n",
    "diabetes_imputed['Age'].replace('60 or older','60-99', inplace=True)"
   ]
  },
  {
   "cell_type": "code",
   "execution_count": 31,
   "metadata": {},
   "outputs": [
    {
     "data": {
      "text/plain": [
       "0      50-59\n",
       "1      50-59\n",
       "2      40-49\n",
       "3      50-59\n",
       "4      40-49\n",
       "       ...  \n",
       "947     0-40\n",
       "948    60-99\n",
       "949    60-99\n",
       "950    60-99\n",
       "951    60-99\n",
       "Name: Age, Length: 951, dtype: object"
      ]
     },
     "execution_count": 31,
     "metadata": {},
     "output_type": "execute_result"
    }
   ],
   "source": [
    "diabetes_imputed['Age']"
   ]
  },
  {
   "cell_type": "code",
   "execution_count": 32,
   "metadata": {},
   "outputs": [
    {
     "name": "stdout",
     "output_type": "stream",
     "text": [
      "     Gender Family_Diabetes highBP      PhysicallyActive BMI Smoking Alcohol  \\\n",
      "0      Male              no    yes        one hr or more  39      no      no   \n",
      "1      Male              no    yes  less than half an hr  28      no      no   \n",
      "2      Male              no     no        one hr or more  24      no      no   \n",
      "3      Male              no     no        one hr or more  23      no      no   \n",
      "4      Male              no     no  less than half an hr  27      no      no   \n",
      "..      ...             ...    ...                   ...  ..     ...     ...   \n",
      "947    Male             yes     no  more than half an hr  25      no      no   \n",
      "948    Male             yes    yes  more than half an hr  27      no      no   \n",
      "949    Male              no    yes                  none  23      no      no   \n",
      "950    Male              no    yes  less than half an hr  27      no     yes   \n",
      "951  Female             yes    yes        one hr or more  30      no      no   \n",
      "\n",
      "    Sleep SoundSleep RegularMedicine      JunkFood      Stress BPLevel  \\\n",
      "0       8          6              no  occasionally   sometimes    high   \n",
      "1       8          6             yes    very often   sometimes  normal   \n",
      "2       6          6              no  occasionally   sometimes  normal   \n",
      "3       8          6              no  occasionally   sometimes  normal   \n",
      "4       8          8              no  occasionally   sometimes  normal   \n",
      "..    ...        ...             ...           ...         ...     ...   \n",
      "947     8          6              no         often   sometimes  normal   \n",
      "948     6          5             yes  occasionally   sometimes    high   \n",
      "949     6          5             yes  occasionally   sometimes    high   \n",
      "950     6          5             yes  occasionally  very often    high   \n",
      "951     7          4             yes  occasionally   sometimes    high   \n",
      "\n",
      "    Pregancies Pdiabetes UriationFreq  Diabetic Age Above Age Below  \n",
      "0            0         0     not much         1        50        59  \n",
      "1            0         0     not much         1        50        59  \n",
      "2            0         0     not much         1        40        49  \n",
      "3            0         0     not much         1        50        59  \n",
      "4            0         0     not much         1        40        49  \n",
      "..         ...       ...          ...       ...       ...       ...  \n",
      "947          0         0     not much         2         0        40  \n",
      "948          0         0  quite often         2        60        99  \n",
      "949          0         0     not much         1        60        99  \n",
      "950          0         0     not much         1        60        99  \n",
      "951          2         0  quite often         2        60        99  \n",
      "\n",
      "[951 rows x 19 columns]\n"
     ]
    }
   ],
   "source": [
    "diabetes_imputed = pd.DataFrame(diabetes_imputed)\n",
    "\n",
    "# Split the 'Full_Name' column into 'First_Name' and 'Last_Name' columns\n",
    "diabetes_imputed[['Age Above', 'Age Below']] = diabetes_imputed['Age'].str.split('-', expand=True)\n",
    "diabetes_imputed.drop(columns=['Age'], inplace=True)\n",
    "# Display the modified DataFrame\n",
    "print(diabetes_imputed)"
   ]
  },
  {
   "cell_type": "code",
   "execution_count": 33,
   "metadata": {},
   "outputs": [
    {
     "data": {
      "text/html": [
       "<div>\n",
       "<style scoped>\n",
       "    .dataframe tbody tr th:only-of-type {\n",
       "        vertical-align: middle;\n",
       "    }\n",
       "\n",
       "    .dataframe tbody tr th {\n",
       "        vertical-align: top;\n",
       "    }\n",
       "\n",
       "    .dataframe thead th {\n",
       "        text-align: right;\n",
       "    }\n",
       "</style>\n",
       "<table border=\"1\" class=\"dataframe\">\n",
       "  <thead>\n",
       "    <tr style=\"text-align: right;\">\n",
       "      <th></th>\n",
       "      <th>Gender</th>\n",
       "      <th>Family_Diabetes</th>\n",
       "      <th>highBP</th>\n",
       "      <th>PhysicallyActive</th>\n",
       "      <th>BMI</th>\n",
       "      <th>Smoking</th>\n",
       "      <th>Alcohol</th>\n",
       "      <th>Sleep</th>\n",
       "      <th>SoundSleep</th>\n",
       "      <th>RegularMedicine</th>\n",
       "      <th>JunkFood</th>\n",
       "      <th>Stress</th>\n",
       "      <th>BPLevel</th>\n",
       "      <th>Pregancies</th>\n",
       "      <th>Pdiabetes</th>\n",
       "      <th>UriationFreq</th>\n",
       "      <th>Diabetic</th>\n",
       "      <th>Age Above</th>\n",
       "      <th>Age Below</th>\n",
       "    </tr>\n",
       "  </thead>\n",
       "  <tbody>\n",
       "    <tr>\n",
       "      <th>0</th>\n",
       "      <td>Male</td>\n",
       "      <td>no</td>\n",
       "      <td>yes</td>\n",
       "      <td>one hr or more</td>\n",
       "      <td>39</td>\n",
       "      <td>no</td>\n",
       "      <td>no</td>\n",
       "      <td>8</td>\n",
       "      <td>6</td>\n",
       "      <td>no</td>\n",
       "      <td>occasionally</td>\n",
       "      <td>sometimes</td>\n",
       "      <td>high</td>\n",
       "      <td>0</td>\n",
       "      <td>0</td>\n",
       "      <td>not much</td>\n",
       "      <td>1</td>\n",
       "      <td>50</td>\n",
       "      <td>59</td>\n",
       "    </tr>\n",
       "    <tr>\n",
       "      <th>1</th>\n",
       "      <td>Male</td>\n",
       "      <td>no</td>\n",
       "      <td>yes</td>\n",
       "      <td>less than half an hr</td>\n",
       "      <td>28</td>\n",
       "      <td>no</td>\n",
       "      <td>no</td>\n",
       "      <td>8</td>\n",
       "      <td>6</td>\n",
       "      <td>yes</td>\n",
       "      <td>very often</td>\n",
       "      <td>sometimes</td>\n",
       "      <td>normal</td>\n",
       "      <td>0</td>\n",
       "      <td>0</td>\n",
       "      <td>not much</td>\n",
       "      <td>1</td>\n",
       "      <td>50</td>\n",
       "      <td>59</td>\n",
       "    </tr>\n",
       "    <tr>\n",
       "      <th>2</th>\n",
       "      <td>Male</td>\n",
       "      <td>no</td>\n",
       "      <td>no</td>\n",
       "      <td>one hr or more</td>\n",
       "      <td>24</td>\n",
       "      <td>no</td>\n",
       "      <td>no</td>\n",
       "      <td>6</td>\n",
       "      <td>6</td>\n",
       "      <td>no</td>\n",
       "      <td>occasionally</td>\n",
       "      <td>sometimes</td>\n",
       "      <td>normal</td>\n",
       "      <td>0</td>\n",
       "      <td>0</td>\n",
       "      <td>not much</td>\n",
       "      <td>1</td>\n",
       "      <td>40</td>\n",
       "      <td>49</td>\n",
       "    </tr>\n",
       "    <tr>\n",
       "      <th>3</th>\n",
       "      <td>Male</td>\n",
       "      <td>no</td>\n",
       "      <td>no</td>\n",
       "      <td>one hr or more</td>\n",
       "      <td>23</td>\n",
       "      <td>no</td>\n",
       "      <td>no</td>\n",
       "      <td>8</td>\n",
       "      <td>6</td>\n",
       "      <td>no</td>\n",
       "      <td>occasionally</td>\n",
       "      <td>sometimes</td>\n",
       "      <td>normal</td>\n",
       "      <td>0</td>\n",
       "      <td>0</td>\n",
       "      <td>not much</td>\n",
       "      <td>1</td>\n",
       "      <td>50</td>\n",
       "      <td>59</td>\n",
       "    </tr>\n",
       "    <tr>\n",
       "      <th>4</th>\n",
       "      <td>Male</td>\n",
       "      <td>no</td>\n",
       "      <td>no</td>\n",
       "      <td>less than half an hr</td>\n",
       "      <td>27</td>\n",
       "      <td>no</td>\n",
       "      <td>no</td>\n",
       "      <td>8</td>\n",
       "      <td>8</td>\n",
       "      <td>no</td>\n",
       "      <td>occasionally</td>\n",
       "      <td>sometimes</td>\n",
       "      <td>normal</td>\n",
       "      <td>0</td>\n",
       "      <td>0</td>\n",
       "      <td>not much</td>\n",
       "      <td>1</td>\n",
       "      <td>40</td>\n",
       "      <td>49</td>\n",
       "    </tr>\n",
       "  </tbody>\n",
       "</table>\n",
       "</div>"
      ],
      "text/plain": [
       "  Gender Family_Diabetes highBP      PhysicallyActive BMI Smoking Alcohol  \\\n",
       "0   Male              no    yes        one hr or more  39      no      no   \n",
       "1   Male              no    yes  less than half an hr  28      no      no   \n",
       "2   Male              no     no        one hr or more  24      no      no   \n",
       "3   Male              no     no        one hr or more  23      no      no   \n",
       "4   Male              no     no  less than half an hr  27      no      no   \n",
       "\n",
       "  Sleep SoundSleep RegularMedicine      JunkFood     Stress BPLevel  \\\n",
       "0     8          6              no  occasionally  sometimes    high   \n",
       "1     8          6             yes    very often  sometimes  normal   \n",
       "2     6          6              no  occasionally  sometimes  normal   \n",
       "3     8          6              no  occasionally  sometimes  normal   \n",
       "4     8          8              no  occasionally  sometimes  normal   \n",
       "\n",
       "  Pregancies Pdiabetes UriationFreq  Diabetic Age Above Age Below  \n",
       "0          0         0     not much         1        50        59  \n",
       "1          0         0     not much         1        50        59  \n",
       "2          0         0     not much         1        40        49  \n",
       "3          0         0     not much         1        50        59  \n",
       "4          0         0     not much         1        40        49  "
      ]
     },
     "execution_count": 33,
     "metadata": {},
     "output_type": "execute_result"
    }
   ],
   "source": [
    "diabetes_imputed.head()"
   ]
  },
  {
   "cell_type": "code",
   "execution_count": 34,
   "metadata": {},
   "outputs": [
    {
     "data": {
      "text/plain": [
       "(951, 19)"
      ]
     },
     "execution_count": 34,
     "metadata": {},
     "output_type": "execute_result"
    }
   ],
   "source": [
    "diabetes_imputed.shape"
   ]
  },
  {
   "cell_type": "code",
   "execution_count": 35,
   "metadata": {},
   "outputs": [
    {
     "name": "stdout",
     "output_type": "stream",
     "text": [
      "    Age Above Age Below  Gender Family_Diabetes highBP      PhysicallyActive  \\\n",
      "0          50        59    Male              no    yes        one hr or more   \n",
      "1          50        59    Male              no    yes  less than half an hr   \n",
      "2          40        49    Male              no     no        one hr or more   \n",
      "3          50        59    Male              no     no        one hr or more   \n",
      "4          40        49    Male              no     no  less than half an hr   \n",
      "..        ...       ...     ...             ...    ...                   ...   \n",
      "947         0        40    Male             yes     no  more than half an hr   \n",
      "948        60        99    Male             yes    yes  more than half an hr   \n",
      "949        60        99    Male              no    yes                  none   \n",
      "950        60        99    Male              no    yes  less than half an hr   \n",
      "951        60        99  Female             yes    yes        one hr or more   \n",
      "\n",
      "    BMI Smoking Alcohol Sleep SoundSleep RegularMedicine      JunkFood  \\\n",
      "0    39      no      no     8          6              no  occasionally   \n",
      "1    28      no      no     8          6             yes    very often   \n",
      "2    24      no      no     6          6              no  occasionally   \n",
      "3    23      no      no     8          6              no  occasionally   \n",
      "4    27      no      no     8          8              no  occasionally   \n",
      "..   ..     ...     ...   ...        ...             ...           ...   \n",
      "947  25      no      no     8          6              no         often   \n",
      "948  27      no      no     6          5             yes  occasionally   \n",
      "949  23      no      no     6          5             yes  occasionally   \n",
      "950  27      no     yes     6          5             yes  occasionally   \n",
      "951  30      no      no     7          4             yes  occasionally   \n",
      "\n",
      "         Stress BPLevel Pregancies Pdiabetes UriationFreq  Diabetic  \n",
      "0     sometimes    high          0         0     not much         1  \n",
      "1     sometimes  normal          0         0     not much         1  \n",
      "2     sometimes  normal          0         0     not much         1  \n",
      "3     sometimes  normal          0         0     not much         1  \n",
      "4     sometimes  normal          0         0     not much         1  \n",
      "..          ...     ...        ...       ...          ...       ...  \n",
      "947   sometimes  normal          0         0     not much         2  \n",
      "948   sometimes    high          0         0  quite often         2  \n",
      "949   sometimes    high          0         0     not much         1  \n",
      "950  very often    high          0         0     not much         1  \n",
      "951   sometimes    high          2         0  quite often         2  \n",
      "\n",
      "[951 rows x 19 columns]\n"
     ]
    }
   ],
   "source": [
    "columns = diabetes_imputed.columns.tolist()\n",
    "columns = columns[-2:] + columns[:-2]  # Move the last two columns to the start\n",
    "\n",
    "# Reorganize the DataFrame with the new column order\n",
    "diabetes_imputed = diabetes_imputed[columns]\n",
    "\n",
    "# Display the modified DataFrame\n",
    "print(diabetes_imputed)\n"
   ]
  },
  {
   "cell_type": "code",
   "execution_count": 36,
   "metadata": {},
   "outputs": [
    {
     "data": {
      "text/html": [
       "<div>\n",
       "<style scoped>\n",
       "    .dataframe tbody tr th:only-of-type {\n",
       "        vertical-align: middle;\n",
       "    }\n",
       "\n",
       "    .dataframe tbody tr th {\n",
       "        vertical-align: top;\n",
       "    }\n",
       "\n",
       "    .dataframe thead th {\n",
       "        text-align: right;\n",
       "    }\n",
       "</style>\n",
       "<table border=\"1\" class=\"dataframe\">\n",
       "  <thead>\n",
       "    <tr style=\"text-align: right;\">\n",
       "      <th></th>\n",
       "      <th>Age Above</th>\n",
       "      <th>Age Below</th>\n",
       "      <th>Gender</th>\n",
       "      <th>Family_Diabetes</th>\n",
       "      <th>highBP</th>\n",
       "      <th>PhysicallyActive</th>\n",
       "      <th>BMI</th>\n",
       "      <th>Smoking</th>\n",
       "      <th>Alcohol</th>\n",
       "      <th>Sleep</th>\n",
       "      <th>SoundSleep</th>\n",
       "      <th>RegularMedicine</th>\n",
       "      <th>JunkFood</th>\n",
       "      <th>Stress</th>\n",
       "      <th>BPLevel</th>\n",
       "      <th>Pregancies</th>\n",
       "      <th>Pdiabetes</th>\n",
       "      <th>UriationFreq</th>\n",
       "      <th>Diabetic</th>\n",
       "    </tr>\n",
       "  </thead>\n",
       "  <tbody>\n",
       "    <tr>\n",
       "      <th>0</th>\n",
       "      <td>50</td>\n",
       "      <td>59</td>\n",
       "      <td>Male</td>\n",
       "      <td>no</td>\n",
       "      <td>yes</td>\n",
       "      <td>one hr or more</td>\n",
       "      <td>39</td>\n",
       "      <td>no</td>\n",
       "      <td>no</td>\n",
       "      <td>8</td>\n",
       "      <td>6</td>\n",
       "      <td>no</td>\n",
       "      <td>occasionally</td>\n",
       "      <td>sometimes</td>\n",
       "      <td>high</td>\n",
       "      <td>0</td>\n",
       "      <td>0</td>\n",
       "      <td>not much</td>\n",
       "      <td>1</td>\n",
       "    </tr>\n",
       "    <tr>\n",
       "      <th>1</th>\n",
       "      <td>50</td>\n",
       "      <td>59</td>\n",
       "      <td>Male</td>\n",
       "      <td>no</td>\n",
       "      <td>yes</td>\n",
       "      <td>less than half an hr</td>\n",
       "      <td>28</td>\n",
       "      <td>no</td>\n",
       "      <td>no</td>\n",
       "      <td>8</td>\n",
       "      <td>6</td>\n",
       "      <td>yes</td>\n",
       "      <td>very often</td>\n",
       "      <td>sometimes</td>\n",
       "      <td>normal</td>\n",
       "      <td>0</td>\n",
       "      <td>0</td>\n",
       "      <td>not much</td>\n",
       "      <td>1</td>\n",
       "    </tr>\n",
       "    <tr>\n",
       "      <th>2</th>\n",
       "      <td>40</td>\n",
       "      <td>49</td>\n",
       "      <td>Male</td>\n",
       "      <td>no</td>\n",
       "      <td>no</td>\n",
       "      <td>one hr or more</td>\n",
       "      <td>24</td>\n",
       "      <td>no</td>\n",
       "      <td>no</td>\n",
       "      <td>6</td>\n",
       "      <td>6</td>\n",
       "      <td>no</td>\n",
       "      <td>occasionally</td>\n",
       "      <td>sometimes</td>\n",
       "      <td>normal</td>\n",
       "      <td>0</td>\n",
       "      <td>0</td>\n",
       "      <td>not much</td>\n",
       "      <td>1</td>\n",
       "    </tr>\n",
       "    <tr>\n",
       "      <th>3</th>\n",
       "      <td>50</td>\n",
       "      <td>59</td>\n",
       "      <td>Male</td>\n",
       "      <td>no</td>\n",
       "      <td>no</td>\n",
       "      <td>one hr or more</td>\n",
       "      <td>23</td>\n",
       "      <td>no</td>\n",
       "      <td>no</td>\n",
       "      <td>8</td>\n",
       "      <td>6</td>\n",
       "      <td>no</td>\n",
       "      <td>occasionally</td>\n",
       "      <td>sometimes</td>\n",
       "      <td>normal</td>\n",
       "      <td>0</td>\n",
       "      <td>0</td>\n",
       "      <td>not much</td>\n",
       "      <td>1</td>\n",
       "    </tr>\n",
       "    <tr>\n",
       "      <th>4</th>\n",
       "      <td>40</td>\n",
       "      <td>49</td>\n",
       "      <td>Male</td>\n",
       "      <td>no</td>\n",
       "      <td>no</td>\n",
       "      <td>less than half an hr</td>\n",
       "      <td>27</td>\n",
       "      <td>no</td>\n",
       "      <td>no</td>\n",
       "      <td>8</td>\n",
       "      <td>8</td>\n",
       "      <td>no</td>\n",
       "      <td>occasionally</td>\n",
       "      <td>sometimes</td>\n",
       "      <td>normal</td>\n",
       "      <td>0</td>\n",
       "      <td>0</td>\n",
       "      <td>not much</td>\n",
       "      <td>1</td>\n",
       "    </tr>\n",
       "  </tbody>\n",
       "</table>\n",
       "</div>"
      ],
      "text/plain": [
       "  Age Above Age Below Gender Family_Diabetes highBP      PhysicallyActive BMI  \\\n",
       "0        50        59   Male              no    yes        one hr or more  39   \n",
       "1        50        59   Male              no    yes  less than half an hr  28   \n",
       "2        40        49   Male              no     no        one hr or more  24   \n",
       "3        50        59   Male              no     no        one hr or more  23   \n",
       "4        40        49   Male              no     no  less than half an hr  27   \n",
       "\n",
       "  Smoking Alcohol Sleep SoundSleep RegularMedicine      JunkFood     Stress  \\\n",
       "0      no      no     8          6              no  occasionally  sometimes   \n",
       "1      no      no     8          6             yes    very often  sometimes   \n",
       "2      no      no     6          6              no  occasionally  sometimes   \n",
       "3      no      no     8          6              no  occasionally  sometimes   \n",
       "4      no      no     8          8              no  occasionally  sometimes   \n",
       "\n",
       "  BPLevel Pregancies Pdiabetes UriationFreq  Diabetic  \n",
       "0    high          0         0     not much         1  \n",
       "1  normal          0         0     not much         1  \n",
       "2  normal          0         0     not much         1  \n",
       "3  normal          0         0     not much         1  \n",
       "4  normal          0         0     not much         1  "
      ]
     },
     "execution_count": 36,
     "metadata": {},
     "output_type": "execute_result"
    }
   ],
   "source": [
    "diabetes_imputed.head()"
   ]
  },
  {
   "cell_type": "code",
   "execution_count": 37,
   "metadata": {},
   "outputs": [],
   "source": [
    "diabetes_imputed['Gender'].replace('Male','0', inplace=True)\n",
    "\n",
    "diabetes_imputed['Gender'].replace('Female','1', inplace=True)"
   ]
  },
  {
   "cell_type": "code",
   "execution_count": 38,
   "metadata": {},
   "outputs": [
    {
     "data": {
      "text/plain": [
       "0      0\n",
       "1      0\n",
       "2      0\n",
       "3      0\n",
       "4      0\n",
       "      ..\n",
       "947    0\n",
       "948    0\n",
       "949    0\n",
       "950    0\n",
       "951    1\n",
       "Name: Gender, Length: 951, dtype: object"
      ]
     },
     "execution_count": 38,
     "metadata": {},
     "output_type": "execute_result"
    }
   ],
   "source": [
    "diabetes_imputed['Gender']"
   ]
  },
  {
   "cell_type": "markdown",
   "metadata": {},
   "source": [
    "#### Here 0 represents Male.\n",
    "\n",
    "#### And 1 represents Female."
   ]
  },
  {
   "cell_type": "code",
   "execution_count": 39,
   "metadata": {},
   "outputs": [],
   "source": [
    "diabetes_imputed['Family_Diabetes'].replace('no','0', inplace=True)\n",
    "\n",
    "diabetes_imputed['Family_Diabetes'].replace('yes','1', inplace=True)"
   ]
  },
  {
   "cell_type": "code",
   "execution_count": 40,
   "metadata": {},
   "outputs": [
    {
     "data": {
      "text/plain": [
       "0      0\n",
       "1      0\n",
       "2      0\n",
       "3      0\n",
       "4      0\n",
       "      ..\n",
       "947    1\n",
       "948    1\n",
       "949    0\n",
       "950    0\n",
       "951    1\n",
       "Name: Family_Diabetes, Length: 951, dtype: object"
      ]
     },
     "execution_count": 40,
     "metadata": {},
     "output_type": "execute_result"
    }
   ],
   "source": [
    "diabetes_imputed['Family_Diabetes']"
   ]
  },
  {
   "cell_type": "markdown",
   "metadata": {},
   "source": [
    "#### Here 0 represents the person had no family diabetes history.\n",
    "\n",
    "#### And 1 represents the person had family diabetes history."
   ]
  },
  {
   "cell_type": "code",
   "execution_count": 41,
   "metadata": {},
   "outputs": [],
   "source": [
    "diabetes_imputed['highBP'].replace('no','0', inplace=True)\n",
    "\n",
    "diabetes_imputed['highBP'].replace('yes','1', inplace=True)"
   ]
  },
  {
   "cell_type": "code",
   "execution_count": 42,
   "metadata": {},
   "outputs": [
    {
     "data": {
      "text/plain": [
       "0      1\n",
       "1      1\n",
       "2      0\n",
       "3      0\n",
       "4      0\n",
       "      ..\n",
       "947    0\n",
       "948    1\n",
       "949    1\n",
       "950    1\n",
       "951    1\n",
       "Name: highBP, Length: 951, dtype: object"
      ]
     },
     "execution_count": 42,
     "metadata": {},
     "output_type": "execute_result"
    }
   ],
   "source": [
    "diabetes_imputed['highBP']"
   ]
  },
  {
   "cell_type": "markdown",
   "metadata": {},
   "source": [
    "#### 0 represents that the person does not have high BP.\n",
    "\n",
    "#### 1 represents that the person has high BP."
   ]
  },
  {
   "cell_type": "code",
   "execution_count": 43,
   "metadata": {},
   "outputs": [],
   "source": [
    "diabetes_imputed['PhysicallyActive'].replace('none',0, inplace=True)\n",
    "\n",
    "diabetes_imputed['PhysicallyActive'].replace('less than half an hr',1, inplace=True)\n",
    "\n",
    "diabetes_imputed['PhysicallyActive'].replace('more than half an hr',2, inplace=True)\n",
    "\n",
    "diabetes_imputed['PhysicallyActive'].replace('one hr or more',3, inplace=True)"
   ]
  },
  {
   "cell_type": "code",
   "execution_count": 44,
   "metadata": {},
   "outputs": [
    {
     "data": {
      "text/plain": [
       "0      3\n",
       "1      1\n",
       "2      3\n",
       "3      3\n",
       "4      1\n",
       "      ..\n",
       "947    2\n",
       "948    2\n",
       "949    0\n",
       "950    1\n",
       "951    3\n",
       "Name: PhysicallyActive, Length: 951, dtype: int64"
      ]
     },
     "execution_count": 44,
     "metadata": {},
     "output_type": "execute_result"
    }
   ],
   "source": [
    "diabetes_imputed['PhysicallyActive']"
   ]
  },
  {
   "cell_type": "markdown",
   "metadata": {},
   "source": [
    "#### Here 0 conveys that the person is not at all physically active.\n",
    "\n",
    "#### 1 conveys that the person exercises for not more than 30 mins.\n",
    "\n",
    "#### 2 conveys that the person exercises for more than 30 mins.\n",
    "\n",
    "#### 3 conveys that the person exercises for more than an hour."
   ]
  },
  {
   "cell_type": "code",
   "execution_count": 45,
   "metadata": {},
   "outputs": [],
   "source": [
    "diabetes_imputed['Smoking'].replace('no','0', inplace=True)\n",
    "\n",
    "diabetes_imputed['Smoking'].replace('yes','1', inplace=True)"
   ]
  },
  {
   "cell_type": "code",
   "execution_count": 46,
   "metadata": {},
   "outputs": [
    {
     "data": {
      "text/plain": [
       "0      0\n",
       "1      0\n",
       "2      0\n",
       "3      0\n",
       "4      0\n",
       "      ..\n",
       "947    0\n",
       "948    0\n",
       "949    0\n",
       "950    0\n",
       "951    0\n",
       "Name: Smoking, Length: 951, dtype: object"
      ]
     },
     "execution_count": 46,
     "metadata": {},
     "output_type": "execute_result"
    }
   ],
   "source": [
    "diabetes_imputed['Smoking']"
   ]
  },
  {
   "cell_type": "markdown",
   "metadata": {},
   "source": [
    "#### 0 represents that the person is not a smoker.\n",
    "\n",
    "#### 1 represents that the person does not smoke."
   ]
  },
  {
   "cell_type": "code",
   "execution_count": 47,
   "metadata": {},
   "outputs": [],
   "source": [
    "diabetes_imputed['Alcohol'].replace('no','0', inplace=True)\n",
    "\n",
    "diabetes_imputed['Alcohol'].replace('yes','1', inplace=True)"
   ]
  },
  {
   "cell_type": "code",
   "execution_count": 48,
   "metadata": {},
   "outputs": [
    {
     "data": {
      "text/plain": [
       "0      0\n",
       "1      0\n",
       "2      0\n",
       "3      0\n",
       "4      0\n",
       "      ..\n",
       "947    0\n",
       "948    0\n",
       "949    0\n",
       "950    1\n",
       "951    0\n",
       "Name: Alcohol, Length: 951, dtype: object"
      ]
     },
     "execution_count": 48,
     "metadata": {},
     "output_type": "execute_result"
    }
   ],
   "source": [
    "diabetes_imputed['Alcohol']"
   ]
  },
  {
   "cell_type": "markdown",
   "metadata": {},
   "source": [
    "#### 0 represents that the person does not drink alcohol.\n",
    "\n",
    "#### 1 represents that the person drinks alcohol."
   ]
  },
  {
   "cell_type": "code",
   "execution_count": 49,
   "metadata": {},
   "outputs": [],
   "source": [
    "diabetes_imputed['RegularMedicine'].replace('no','0', inplace=True)\n",
    "diabetes_imputed['RegularMedicine'].replace('o','0', inplace=True)\n",
    "\n",
    "diabetes_imputed['RegularMedicine'].replace('yes','1', inplace=True)"
   ]
  },
  {
   "cell_type": "code",
   "execution_count": 50,
   "metadata": {},
   "outputs": [
    {
     "data": {
      "text/plain": [
       "0      0\n",
       "1      1\n",
       "2      0\n",
       "3      0\n",
       "4      0\n",
       "      ..\n",
       "947    0\n",
       "948    1\n",
       "949    1\n",
       "950    1\n",
       "951    1\n",
       "Name: RegularMedicine, Length: 951, dtype: object"
      ]
     },
     "execution_count": 50,
     "metadata": {},
     "output_type": "execute_result"
    }
   ],
   "source": [
    "diabetes_imputed['RegularMedicine']"
   ]
  },
  {
   "cell_type": "markdown",
   "metadata": {},
   "source": [
    "#### 0 represents that the person does not take any regular medicine or the person does not need any regular medicine.\n",
    "\n",
    "#### 1 represents that the person takes regular medicines."
   ]
  },
  {
   "cell_type": "code",
   "execution_count": 51,
   "metadata": {},
   "outputs": [],
   "source": [
    "diabetes_imputed['JunkFood'].replace('occasionally','0', inplace=True)\n",
    "\n",
    "diabetes_imputed['JunkFood'].replace('often','1', inplace=True)\n",
    "\n",
    "diabetes_imputed['JunkFood'].replace('very often','2', inplace=True)\n",
    "\n",
    "diabetes_imputed['JunkFood'].replace('always','3', inplace=True)"
   ]
  },
  {
   "cell_type": "code",
   "execution_count": 52,
   "metadata": {},
   "outputs": [
    {
     "data": {
      "text/plain": [
       "0      0\n",
       "1      2\n",
       "2      0\n",
       "3      0\n",
       "4      0\n",
       "      ..\n",
       "947    1\n",
       "948    0\n",
       "949    0\n",
       "950    0\n",
       "951    0\n",
       "Name: JunkFood, Length: 951, dtype: object"
      ]
     },
     "execution_count": 52,
     "metadata": {},
     "output_type": "execute_result"
    }
   ],
   "source": [
    "diabetes_imputed['JunkFood']"
   ]
  },
  {
   "cell_type": "markdown",
   "metadata": {},
   "source": [
    "#### 0 represents that the person occasionally consumes junk food.\n",
    "\n",
    "#### 1 represents that the person often consumes junk food.\n",
    "\n",
    "#### 2 represents that the person consumes junk food very often.\n",
    "\n",
    "#### 3 represents that the person always consumes junk food only."
   ]
  },
  {
   "cell_type": "code",
   "execution_count": 53,
   "metadata": {},
   "outputs": [],
   "source": [
    "diabetes_imputed['Stress'].replace('not at all','0', inplace=True)\n",
    "\n",
    "diabetes_imputed['Stress'].replace('sometimes','1', inplace=True)\n",
    "\n",
    "diabetes_imputed['Stress'].replace('very often','2', inplace=True)\n",
    "\n",
    "diabetes_imputed['Stress'].replace('always','3', inplace=True)"
   ]
  },
  {
   "cell_type": "code",
   "execution_count": 54,
   "metadata": {},
   "outputs": [
    {
     "data": {
      "text/plain": [
       "0      1\n",
       "1      1\n",
       "2      1\n",
       "3      1\n",
       "4      1\n",
       "      ..\n",
       "947    1\n",
       "948    1\n",
       "949    1\n",
       "950    2\n",
       "951    1\n",
       "Name: Stress, Length: 951, dtype: object"
      ]
     },
     "execution_count": 54,
     "metadata": {},
     "output_type": "execute_result"
    }
   ],
   "source": [
    "diabetes_imputed['Stress']"
   ]
  },
  {
   "cell_type": "markdown",
   "metadata": {},
   "source": [
    "#### 0 represents that the person does not take stress at all.\n",
    "\n",
    "#### 1 represents that the person takes stress sometimes.\n",
    "\n",
    "#### 2 represents that the person is very often stressed.\n",
    "\n",
    "#### 3 represents that the person is always under a lot of tension."
   ]
  },
  {
   "cell_type": "code",
   "execution_count": 55,
   "metadata": {},
   "outputs": [],
   "source": [
    "diabetes_imputed['BPLevel'] = diabetes_imputed['BPLevel'].str.lower().str.strip()"
   ]
  },
  {
   "cell_type": "code",
   "execution_count": 56,
   "metadata": {},
   "outputs": [],
   "source": [
    "diabetes_imputed['BPLevel'].replace('low',0, inplace=True)\n",
    "\n",
    "diabetes_imputed['BPLevel'].replace('normal',1, inplace=True)\n",
    "\n",
    "diabetes_imputed['BPLevel'].replace('high',2, inplace=True)"
   ]
  },
  {
   "cell_type": "code",
   "execution_count": 57,
   "metadata": {},
   "outputs": [
    {
     "data": {
      "text/plain": [
       "0      2\n",
       "1      1\n",
       "2      1\n",
       "3      1\n",
       "4      1\n",
       "      ..\n",
       "947    1\n",
       "948    2\n",
       "949    2\n",
       "950    2\n",
       "951    2\n",
       "Name: BPLevel, Length: 951, dtype: int64"
      ]
     },
     "execution_count": 57,
     "metadata": {},
     "output_type": "execute_result"
    }
   ],
   "source": [
    "diabetes_imputed['BPLevel']"
   ]
  },
  {
   "cell_type": "markdown",
   "metadata": {},
   "source": [
    "#### 0 represents that the person has a low Blood Pressure Level.\n",
    "\n",
    "#### 1 represents that the person has a normal Blood Pressure Level.\n",
    "\n",
    "#### 2 represents that the person has high Blood Pressure Level."
   ]
  },
  {
   "cell_type": "code",
   "execution_count": 58,
   "metadata": {},
   "outputs": [],
   "source": [
    "diabetes_imputed['Pdiabetes'] = diabetes_imputed['Pdiabetes'].fillna(0)"
   ]
  },
  {
   "cell_type": "code",
   "execution_count": 59,
   "metadata": {},
   "outputs": [],
   "source": [
    "diabetes_imputed['Pdiabetes'].replace('no','0', inplace=True)\n",
    "\n",
    "diabetes_imputed['Pdiabetes'].replace('yes','1', inplace=True)"
   ]
  },
  {
   "cell_type": "code",
   "execution_count": 60,
   "metadata": {},
   "outputs": [
    {
     "data": {
      "text/plain": [
       "0      0\n",
       "1      0\n",
       "2      0\n",
       "3      0\n",
       "4      0\n",
       "      ..\n",
       "947    0\n",
       "948    0\n",
       "949    0\n",
       "950    0\n",
       "951    0\n",
       "Name: Pdiabetes, Length: 951, dtype: object"
      ]
     },
     "execution_count": 60,
     "metadata": {},
     "output_type": "execute_result"
    }
   ],
   "source": [
    "diabetes_imputed['Pdiabetes']"
   ]
  },
  {
   "cell_type": "code",
   "execution_count": 61,
   "metadata": {},
   "outputs": [],
   "source": [
    "diabetes_imputed['UriationFreq'].replace('not much','0', inplace=True)\n",
    "\n",
    "diabetes_imputed['UriationFreq'].replace('quite often','1', inplace=True)"
   ]
  },
  {
   "cell_type": "code",
   "execution_count": 62,
   "metadata": {},
   "outputs": [
    {
     "data": {
      "text/plain": [
       "0      0\n",
       "1      0\n",
       "2      0\n",
       "3      0\n",
       "4      0\n",
       "      ..\n",
       "947    0\n",
       "948    1\n",
       "949    0\n",
       "950    0\n",
       "951    1\n",
       "Name: UriationFreq, Length: 951, dtype: object"
      ]
     },
     "execution_count": 62,
     "metadata": {},
     "output_type": "execute_result"
    }
   ],
   "source": [
    "diabetes_imputed['UriationFreq']"
   ]
  },
  {
   "cell_type": "markdown",
   "metadata": {},
   "source": [
    "#### 0 represents that the person does not urinate much.\n",
    "\n",
    "#### 1 represents that the person urinates quite often."
   ]
  },
  {
   "cell_type": "code",
   "execution_count": 63,
   "metadata": {},
   "outputs": [
    {
     "data": {
      "text/plain": [
       "0      1\n",
       "1      1\n",
       "2      1\n",
       "3      1\n",
       "4      1\n",
       "      ..\n",
       "947    2\n",
       "948    2\n",
       "949    1\n",
       "950    1\n",
       "951    2\n",
       "Name: Diabetic, Length: 951, dtype: int32"
      ]
     },
     "execution_count": 63,
     "metadata": {},
     "output_type": "execute_result"
    }
   ],
   "source": [
    "diabetes_imputed['Diabetic']"
   ]
  },
  {
   "cell_type": "markdown",
   "metadata": {},
   "source": [
    "#### 1 represents that the person does not have diabetes.\n",
    "\n",
    "#### 2 represents that the person does have diabetes."
   ]
  },
  {
   "cell_type": "code",
   "execution_count": 64,
   "metadata": {},
   "outputs": [],
   "source": [
    "diabetes_imputed['Pregancies'] = diabetes_imputed['Pregancies'].fillna(0)"
   ]
  },
  {
   "cell_type": "code",
   "execution_count": 65,
   "metadata": {},
   "outputs": [
    {
     "data": {
      "text/plain": [
       "0      0.0\n",
       "1      0.0\n",
       "2      0.0\n",
       "3      0.0\n",
       "4      0.0\n",
       "      ... \n",
       "947    0.0\n",
       "948    0.0\n",
       "949    0.0\n",
       "950    0.0\n",
       "951    2.0\n",
       "Name: Pregancies, Length: 951, dtype: float64"
      ]
     },
     "execution_count": 65,
     "metadata": {},
     "output_type": "execute_result"
    }
   ],
   "source": [
    "diabetes_imputed['Pregancies']"
   ]
  },
  {
   "cell_type": "markdown",
   "metadata": {},
   "source": [
    "# Covariance relation and other stuff"
   ]
  },
  {
   "cell_type": "code",
   "execution_count": 66,
   "metadata": {},
   "outputs": [
    {
     "name": "stdout",
     "output_type": "stream",
     "text": [
      "Covariance Matrix:\n",
      "                  PhysicallyActive   BPLevel  Pregancies  Diabetic\n",
      "PhysicallyActive          0.965999 -0.037155   -0.018108 -0.021552\n",
      "BPLevel                  -0.037155  0.217721    0.028221  0.090964\n",
      "Pregancies               -0.018108  0.028221    0.794935  0.095898\n",
      "Diabetic                 -0.021552  0.090964    0.095898  0.201682\n",
      "\n",
      "Correlation Matrix:\n",
      "                  PhysicallyActive   BPLevel  Pregancies  Diabetic\n",
      "PhysicallyActive          1.000000 -0.081018   -0.020665 -0.048827\n",
      "BPLevel                  -0.081018  1.000000    0.067835  0.434093\n",
      "Pregancies               -0.020665  0.067835    1.000000  0.239502\n",
      "Diabetic                 -0.048827  0.434093    0.239502  1.000000\n",
      "\n",
      "Variance for Each Column with Respect to Target Column:\n",
      "PhysicallyActive     0.965999\n",
      "BMI                 29.105657\n",
      "Sleep                1.621765\n",
      "SoundSleep           3.483925\n",
      "BPLevel              0.217721\n",
      "Pregancies           0.794935\n",
      "Diabetic             0.201682\n",
      "dtype: float64\n"
     ]
    }
   ],
   "source": [
    "# Calculate covariance matrix for all columns with respect to the target column\n",
    "covariance_matrix = diabetes_imputed.cov()\n",
    "\n",
    "# Calculate correlation matrix for all columns with respect to the target column\n",
    "correlation_matrix = diabetes_imputed.corr()\n",
    "\n",
    "# Calculate variance for all columns with respect to the target column\n",
    "variance = diabetes_imputed.var()\n",
    "\n",
    "# Calculate Mean Squared Error (MSE) for each column with respect to the target column\n",
    "#mse_values = ((XY.drop(columns='Diabetes_binary') - XY['Diabetes_binary'])**2).mean()\n",
    "\n",
    "# Print the results\n",
    "print(\"Covariance Matrix:\")\n",
    "print(covariance_matrix)\n",
    "\n",
    "print(\"\\nCorrelation Matrix:\")\n",
    "print(correlation_matrix)\n",
    "\n",
    "print(\"\\nVariance for Each Column with Respect to Target Column:\")\n",
    "print(variance)\n",
    "\n",
    "#print(\"\\nMean Squared Error (MSE) for Each Column with Respect to Target Column:\")\n",
    "#print(mse_values)\n"
   ]
  },
  {
   "cell_type": "markdown",
   "metadata": {},
   "source": [
    "# Entropy"
   ]
  },
  {
   "cell_type": "code",
   "execution_count": 67,
   "metadata": {},
   "outputs": [
    {
     "name": "stdout",
     "output_type": "stream",
     "text": [
      "Value of each column\n",
      "\n",
      "\n",
      "Age Above\n",
      "0     487\n",
      "40    164\n",
      "50    156\n",
      "60    144\n",
      "Name: Age Above, dtype: int64\n",
      "\n",
      "\n",
      "Age Below\n",
      "40    487\n",
      "49    164\n",
      "59    156\n",
      "99    144\n",
      "Name: Age Below, dtype: int64\n",
      "\n",
      "\n",
      "Gender\n",
      "0    580\n",
      "1    371\n",
      "Name: Gender, dtype: int64\n",
      "\n",
      "\n",
      "Family_Diabetes\n",
      "0    497\n",
      "1    454\n",
      "Name: Family_Diabetes, dtype: int64\n",
      "\n",
      "\n",
      "highBP\n",
      "0    723\n",
      "1    228\n",
      "Name: highBP, dtype: int64\n",
      "\n",
      "\n",
      "PhysicallyActive\n",
      "1    336\n",
      "2    271\n",
      "3    212\n",
      "0    132\n",
      "Name: PhysicallyActive, dtype: int64\n",
      "\n",
      "\n",
      "BMI\n",
      "24.0    114\n",
      "21.0     88\n",
      "23.0     76\n",
      "28.0     71\n",
      "26.0     66\n",
      "33.0     64\n",
      "27.0     63\n",
      "22.0     58\n",
      "20.0     48\n",
      "19.0     36\n",
      "25.0     34\n",
      "30.0     33\n",
      "18.0     32\n",
      "38.0     28\n",
      "29.0     28\n",
      "36.0     20\n",
      "32.0     16\n",
      "17.0     16\n",
      "31.0     16\n",
      "34.0     12\n",
      "35.0     12\n",
      "15.0      8\n",
      "39.0      4\n",
      "40.0      4\n",
      "42.0      3\n",
      "45.0      1\n",
      "Name: BMI, dtype: int64\n",
      "\n",
      "\n",
      "Smoking\n",
      "0    843\n",
      "1    108\n",
      "Name: Smoking, dtype: int64\n",
      "\n",
      "\n",
      "Alcohol\n",
      "0    759\n",
      "1    192\n",
      "Name: Alcohol, dtype: int64\n",
      "\n",
      "\n",
      "Sleep\n",
      "7     264\n",
      "8     256\n",
      "6     255\n",
      "5      68\n",
      "9      48\n",
      "4      32\n",
      "10     24\n",
      "11      4\n",
      "Name: Sleep, dtype: int64\n",
      "\n",
      "\n",
      "SoundSleep\n",
      "6     227\n",
      "4     188\n",
      "5     156\n",
      "8     120\n",
      "7     104\n",
      "3      68\n",
      "2      44\n",
      "10     16\n",
      "9      16\n",
      "11      4\n",
      "1       4\n",
      "0       4\n",
      "Name: SoundSleep, dtype: int64\n",
      "\n",
      "\n",
      "RegularMedicine\n",
      "0    615\n",
      "1    336\n",
      "Name: RegularMedicine, dtype: int64\n",
      "\n",
      "\n",
      "JunkFood\n",
      "0    671\n",
      "1    184\n",
      "2     52\n",
      "3     44\n",
      "Name: JunkFood, dtype: int64\n",
      "\n",
      "\n",
      "Stress\n",
      "1    563\n",
      "2    164\n",
      "0    136\n",
      "3     88\n",
      "Name: Stress, dtype: int64\n",
      "\n",
      "\n",
      "BPLevel\n",
      "1    707\n",
      "2    216\n",
      "0     28\n",
      "Name: BPLevel, dtype: int64\n",
      "\n",
      "\n",
      "Pregancies\n",
      "0.0    796\n",
      "2.0     63\n",
      "3.0     60\n",
      "1.0     28\n",
      "4.0      4\n",
      "Name: Pregancies, dtype: int64\n",
      "\n",
      "\n",
      "Pdiabetes\n",
      "0    937\n",
      "1     14\n",
      "Name: Pdiabetes, dtype: int64\n",
      "\n",
      "\n",
      "UriationFreq\n",
      "0    664\n",
      "1    287\n",
      "Name: UriationFreq, dtype: int64\n",
      "\n",
      "\n",
      "Diabetic\n",
      "1    685\n",
      "2    266\n",
      "Name: Diabetic, dtype: int64\n",
      "\n",
      "\n"
     ]
    }
   ],
   "source": [
    "print('Value of each column')\n",
    "print('\\n')\n",
    "for col in diabetes_imputed.columns:\n",
    "    print(col)\n",
    "    print(diabetes_imputed[col].value_counts())\n",
    "    print(\"\\n\")"
   ]
  },
  {
   "cell_type": "code",
   "execution_count": 68,
   "metadata": {},
   "outputs": [],
   "source": [
    "def calc_entropy(column):\n",
    "    counts=np.bincount(column) #This code will return the number of each unique value in a column\n",
    "    probability=counts/(len(column))#here we calculate the probability of each value vy dividing the length of the entire column\n",
    "    entropy=0#we start 0 as the intial value of entropy\n",
    "    for prob in probability: # here we a for loop to go throuh each probability of each unique value in the column\n",
    "        if prob >0:\n",
    "            entropy += prob * math.log(prob, 2) # here calculate entropy of each value and add them to find the total emtropy\n",
    "    return -entropy # we should return - * entropy due to the formula\n",
    "    \n",
    "    "
   ]
  },
  {
   "cell_type": "code",
   "execution_count": 69,
   "metadata": {},
   "outputs": [
    {
     "name": "stdout",
     "output_type": "stream",
     "text": [
      "1.771894230501289\n",
      "1.771894230501289\n",
      "0.9648741523800376\n",
      "0.9985247402332957\n",
      "0.7946203517383561\n",
      "1.9245736608466029\n",
      "0.5105753202529608\n",
      "4.225379140726722\n",
      "0.7256974705253365\n",
      "2.3535066337348147\n",
      "2.884629581903987\n",
      "0.9369914854420316\n",
      "1.2479002415985325\n",
      "1.6040381725969848\n",
      "0.9534307774587054\n",
      "0.908715614259761\n",
      "0.1106746364384136\n",
      "0.8834650741094798\n",
      "0.8550493230065987\n"
     ]
    }
   ],
   "source": [
    "print(calc_entropy(diabetes_imputed['Age Above']))\n",
    "print(calc_entropy(diabetes_imputed['Age Below']))\n",
    "print(calc_entropy(diabetes_imputed['Gender']))\n",
    "print(calc_entropy(diabetes_imputed['Family_Diabetes']))\n",
    "print(calc_entropy(diabetes_imputed['highBP']))\n",
    "print(calc_entropy(diabetes_imputed['PhysicallyActive']))\n",
    "print(calc_entropy(diabetes_imputed['Smoking']))\n",
    "print(calc_entropy(diabetes_imputed['BMI']))\n",
    "print(calc_entropy(diabetes_imputed['Alcohol']))\n",
    "print(calc_entropy(diabetes_imputed['Sleep']))\n",
    "print(calc_entropy(diabetes_imputed['SoundSleep']))\n",
    "print(calc_entropy(diabetes_imputed['RegularMedicine']))\n",
    "print(calc_entropy(diabetes_imputed['JunkFood']))\n",
    "print(calc_entropy(diabetes_imputed['Stress']))\n",
    "print(calc_entropy(diabetes_imputed['BPLevel']))\n",
    "print(calc_entropy(diabetes_imputed['Pregancies']))\n",
    "print(calc_entropy(diabetes_imputed['Pdiabetes']))\n",
    "print(calc_entropy(diabetes_imputed['UriationFreq']))\n",
    "print(calc_entropy(diabetes_imputed['Diabetic']))\n",
    "#print(calc_entropy(Y))"
   ]
  },
  {
   "cell_type": "code",
   "execution_count": 70,
   "metadata": {},
   "outputs": [
    {
     "data": {
      "text/html": [
       "<div>\n",
       "<style scoped>\n",
       "    .dataframe tbody tr th:only-of-type {\n",
       "        vertical-align: middle;\n",
       "    }\n",
       "\n",
       "    .dataframe tbody tr th {\n",
       "        vertical-align: top;\n",
       "    }\n",
       "\n",
       "    .dataframe thead th {\n",
       "        text-align: right;\n",
       "    }\n",
       "</style>\n",
       "<table border=\"1\" class=\"dataframe\">\n",
       "  <thead>\n",
       "    <tr style=\"text-align: right;\">\n",
       "      <th></th>\n",
       "      <th>Age Above</th>\n",
       "      <th>Age Below</th>\n",
       "      <th>Gender</th>\n",
       "      <th>Family_Diabetes</th>\n",
       "      <th>highBP</th>\n",
       "      <th>PhysicallyActive</th>\n",
       "      <th>BMI</th>\n",
       "      <th>Smoking</th>\n",
       "      <th>Alcohol</th>\n",
       "      <th>Sleep</th>\n",
       "      <th>SoundSleep</th>\n",
       "      <th>RegularMedicine</th>\n",
       "      <th>JunkFood</th>\n",
       "      <th>Stress</th>\n",
       "      <th>BPLevel</th>\n",
       "      <th>Pregancies</th>\n",
       "      <th>Pdiabetes</th>\n",
       "      <th>UriationFreq</th>\n",
       "      <th>Diabetic</th>\n",
       "    </tr>\n",
       "  </thead>\n",
       "  <tbody>\n",
       "    <tr>\n",
       "      <th>0</th>\n",
       "      <td>50</td>\n",
       "      <td>59</td>\n",
       "      <td>0</td>\n",
       "      <td>0</td>\n",
       "      <td>1</td>\n",
       "      <td>3</td>\n",
       "      <td>39</td>\n",
       "      <td>0</td>\n",
       "      <td>0</td>\n",
       "      <td>8</td>\n",
       "      <td>6</td>\n",
       "      <td>0</td>\n",
       "      <td>0</td>\n",
       "      <td>1</td>\n",
       "      <td>2</td>\n",
       "      <td>0.0</td>\n",
       "      <td>0</td>\n",
       "      <td>0</td>\n",
       "      <td>1</td>\n",
       "    </tr>\n",
       "    <tr>\n",
       "      <th>1</th>\n",
       "      <td>50</td>\n",
       "      <td>59</td>\n",
       "      <td>0</td>\n",
       "      <td>0</td>\n",
       "      <td>1</td>\n",
       "      <td>1</td>\n",
       "      <td>28</td>\n",
       "      <td>0</td>\n",
       "      <td>0</td>\n",
       "      <td>8</td>\n",
       "      <td>6</td>\n",
       "      <td>1</td>\n",
       "      <td>2</td>\n",
       "      <td>1</td>\n",
       "      <td>1</td>\n",
       "      <td>0.0</td>\n",
       "      <td>0</td>\n",
       "      <td>0</td>\n",
       "      <td>1</td>\n",
       "    </tr>\n",
       "    <tr>\n",
       "      <th>2</th>\n",
       "      <td>40</td>\n",
       "      <td>49</td>\n",
       "      <td>0</td>\n",
       "      <td>0</td>\n",
       "      <td>0</td>\n",
       "      <td>3</td>\n",
       "      <td>24</td>\n",
       "      <td>0</td>\n",
       "      <td>0</td>\n",
       "      <td>6</td>\n",
       "      <td>6</td>\n",
       "      <td>0</td>\n",
       "      <td>0</td>\n",
       "      <td>1</td>\n",
       "      <td>1</td>\n",
       "      <td>0.0</td>\n",
       "      <td>0</td>\n",
       "      <td>0</td>\n",
       "      <td>1</td>\n",
       "    </tr>\n",
       "    <tr>\n",
       "      <th>3</th>\n",
       "      <td>50</td>\n",
       "      <td>59</td>\n",
       "      <td>0</td>\n",
       "      <td>0</td>\n",
       "      <td>0</td>\n",
       "      <td>3</td>\n",
       "      <td>23</td>\n",
       "      <td>0</td>\n",
       "      <td>0</td>\n",
       "      <td>8</td>\n",
       "      <td>6</td>\n",
       "      <td>0</td>\n",
       "      <td>0</td>\n",
       "      <td>1</td>\n",
       "      <td>1</td>\n",
       "      <td>0.0</td>\n",
       "      <td>0</td>\n",
       "      <td>0</td>\n",
       "      <td>1</td>\n",
       "    </tr>\n",
       "    <tr>\n",
       "      <th>4</th>\n",
       "      <td>40</td>\n",
       "      <td>49</td>\n",
       "      <td>0</td>\n",
       "      <td>0</td>\n",
       "      <td>0</td>\n",
       "      <td>1</td>\n",
       "      <td>27</td>\n",
       "      <td>0</td>\n",
       "      <td>0</td>\n",
       "      <td>8</td>\n",
       "      <td>8</td>\n",
       "      <td>0</td>\n",
       "      <td>0</td>\n",
       "      <td>1</td>\n",
       "      <td>1</td>\n",
       "      <td>0.0</td>\n",
       "      <td>0</td>\n",
       "      <td>0</td>\n",
       "      <td>1</td>\n",
       "    </tr>\n",
       "  </tbody>\n",
       "</table>\n",
       "</div>"
      ],
      "text/plain": [
       "  Age Above Age Below Gender Family_Diabetes highBP  PhysicallyActive BMI  \\\n",
       "0        50        59      0               0      1                 3  39   \n",
       "1        50        59      0               0      1                 1  28   \n",
       "2        40        49      0               0      0                 3  24   \n",
       "3        50        59      0               0      0                 3  23   \n",
       "4        40        49      0               0      0                 1  27   \n",
       "\n",
       "  Smoking Alcohol Sleep SoundSleep RegularMedicine JunkFood Stress  BPLevel  \\\n",
       "0       0       0     8          6               0        0      1        2   \n",
       "1       0       0     8          6               1        2      1        1   \n",
       "2       0       0     6          6               0        0      1        1   \n",
       "3       0       0     8          6               0        0      1        1   \n",
       "4       0       0     8          8               0        0      1        1   \n",
       "\n",
       "   Pregancies Pdiabetes UriationFreq  Diabetic  \n",
       "0         0.0         0            0         1  \n",
       "1         0.0         0            0         1  \n",
       "2         0.0         0            0         1  \n",
       "3         0.0         0            0         1  \n",
       "4         0.0         0            0         1  "
      ]
     },
     "execution_count": 70,
     "metadata": {},
     "output_type": "execute_result"
    }
   ],
   "source": [
    "diabetes_imputed.head()"
   ]
  },
  {
   "cell_type": "markdown",
   "metadata": {},
   "source": [
    "# Information Gain"
   ]
  },
  {
   "cell_type": "code",
   "execution_count": 71,
   "metadata": {},
   "outputs": [],
   "source": [
    "def information_gain(data, split,target):\n",
    "    original_entropy=calc_entropy(data[target])\n",
    "    values=data[split].unique()\n",
    "    left_split=data[data[split]==values[0]]\n",
    "    right_split=data[data[split]==values[1]]\n",
    "    subract=0\n",
    "    for subset in [left_split,right_split]:\n",
    "        prob=(subset.shape[0])/data.shape[0]\n",
    "        subract += prob * calc_entropy(subset[target])\n",
    "    return  original_entropy - subract"
   ]
  },
  {
   "cell_type": "code",
   "execution_count": 72,
   "metadata": {
    "scrolled": false
   },
   "outputs": [
    {
     "name": "stdout",
     "output_type": "stream",
     "text": [
      "0.5387194174554975\n",
      "0.5387194174554975\n",
      "0.0011209174645492315\n",
      "0.04873977007218255\n",
      "0.09382693208841819\n",
      "0.37312183077892047\n",
      "5.7825267751776543e-05\n",
      "0.7851736229415707\n",
      "0.003047728491104462\n",
      "0.3992579406635649\n",
      "0.5437104395383379\n",
      "0.25979697349238706\n",
      "0.18622834858099768\n",
      "0.3025130383972263\n",
      "0.13662077569140185\n",
      "0.1675895932030257\n",
      "0.01574218483146861\n",
      "0.007139670408989884\n"
     ]
    }
   ],
   "source": [
    "print(information_gain(diabetes_imputed,\"Age Above\",\"Diabetic\"))\n",
    "print(information_gain(diabetes_imputed,\"Age Below\",\"Diabetic\"))\n",
    "print(information_gain(diabetes_imputed,\"Gender\",\"Diabetic\"))\n",
    "print(information_gain(diabetes_imputed,\"Family_Diabetes\",\"Diabetic\"))\n",
    "print(information_gain(diabetes_imputed,\"highBP\",\"Diabetic\"))\n",
    "print(information_gain(diabetes_imputed,\"PhysicallyActive\",\"Diabetic\"))\n",
    "print(information_gain(diabetes_imputed,\"Smoking\",\"Diabetic\"))\n",
    "print(information_gain(diabetes_imputed,\"BMI\",\"Diabetic\"))\n",
    "print(information_gain(diabetes_imputed,\"Alcohol\",\"Diabetic\"))\n",
    "print(information_gain(diabetes_imputed,\"Sleep\",\"Diabetic\"))\n",
    "print(information_gain(diabetes_imputed,\"SoundSleep\",\"Diabetic\"))\n",
    "print(information_gain(diabetes_imputed,\"RegularMedicine\",\"Diabetic\"))\n",
    "print(information_gain(diabetes_imputed,\"JunkFood\",\"Diabetic\"))\n",
    "print(information_gain(diabetes_imputed,\"Stress\",\"Diabetic\"))\n",
    "print(information_gain(diabetes_imputed,\"BPLevel\",\"Diabetic\"))\n",
    "print(information_gain(diabetes_imputed,\"Pregancies\",\"Diabetic\"))\n",
    "print(information_gain(diabetes_imputed,\"Pdiabetes\",\"Diabetic\"))\n",
    "print(information_gain(diabetes_imputed,\"UriationFreq\",\"Diabetic\"))"
   ]
  },
  {
   "cell_type": "markdown",
   "metadata": {},
   "source": [
    "# drop multiple columns"
   ]
  },
  {
   "cell_type": "code",
   "execution_count": 73,
   "metadata": {},
   "outputs": [],
   "source": [
    "diabetes_imputed = diabetes_imputed.drop(columns = 'BPLevel', axis=1)"
   ]
  },
  {
   "cell_type": "markdown",
   "metadata": {},
   "source": [
    "### Splitting the Dataset into Diabetes and Non Diabetes."
   ]
  },
  {
   "cell_type": "code",
   "execution_count": 74,
   "metadata": {},
   "outputs": [],
   "source": [
    "diabetic_mask = diabetes_imputed['Diabetic'] == '2'\n",
    "diabetic_df = diabetes_imputed[diabetic_mask]\n",
    "\n",
    "not_diabetic_mask = diabetes_imputed['Diabetic'] == '1'\n",
    "not_diabetic = diabetes_imputed[not_diabetic_mask]"
   ]
  },
  {
   "cell_type": "code",
   "execution_count": 75,
   "metadata": {},
   "outputs": [
    {
     "data": {
      "text/html": [
       "<div>\n",
       "<style scoped>\n",
       "    .dataframe tbody tr th:only-of-type {\n",
       "        vertical-align: middle;\n",
       "    }\n",
       "\n",
       "    .dataframe tbody tr th {\n",
       "        vertical-align: top;\n",
       "    }\n",
       "\n",
       "    .dataframe thead th {\n",
       "        text-align: right;\n",
       "    }\n",
       "</style>\n",
       "<table border=\"1\" class=\"dataframe\">\n",
       "  <thead>\n",
       "    <tr style=\"text-align: right;\">\n",
       "      <th></th>\n",
       "      <th>Age Above</th>\n",
       "      <th>Age Below</th>\n",
       "      <th>Gender</th>\n",
       "      <th>Family_Diabetes</th>\n",
       "      <th>highBP</th>\n",
       "      <th>PhysicallyActive</th>\n",
       "      <th>BMI</th>\n",
       "      <th>Smoking</th>\n",
       "      <th>Alcohol</th>\n",
       "      <th>Sleep</th>\n",
       "      <th>SoundSleep</th>\n",
       "      <th>RegularMedicine</th>\n",
       "      <th>JunkFood</th>\n",
       "      <th>Stress</th>\n",
       "      <th>Pregancies</th>\n",
       "      <th>Pdiabetes</th>\n",
       "      <th>UriationFreq</th>\n",
       "      <th>Diabetic</th>\n",
       "    </tr>\n",
       "  </thead>\n",
       "  <tbody>\n",
       "    <tr>\n",
       "      <th>0</th>\n",
       "      <td>50</td>\n",
       "      <td>59</td>\n",
       "      <td>0</td>\n",
       "      <td>0</td>\n",
       "      <td>1</td>\n",
       "      <td>3</td>\n",
       "      <td>39.0</td>\n",
       "      <td>0</td>\n",
       "      <td>0</td>\n",
       "      <td>8</td>\n",
       "      <td>6</td>\n",
       "      <td>0</td>\n",
       "      <td>0</td>\n",
       "      <td>1</td>\n",
       "      <td>0.0</td>\n",
       "      <td>0</td>\n",
       "      <td>0</td>\n",
       "      <td>1</td>\n",
       "    </tr>\n",
       "    <tr>\n",
       "      <th>1</th>\n",
       "      <td>50</td>\n",
       "      <td>59</td>\n",
       "      <td>0</td>\n",
       "      <td>0</td>\n",
       "      <td>1</td>\n",
       "      <td>1</td>\n",
       "      <td>28.0</td>\n",
       "      <td>0</td>\n",
       "      <td>0</td>\n",
       "      <td>8</td>\n",
       "      <td>6</td>\n",
       "      <td>1</td>\n",
       "      <td>2</td>\n",
       "      <td>1</td>\n",
       "      <td>0.0</td>\n",
       "      <td>0</td>\n",
       "      <td>0</td>\n",
       "      <td>1</td>\n",
       "    </tr>\n",
       "    <tr>\n",
       "      <th>2</th>\n",
       "      <td>40</td>\n",
       "      <td>49</td>\n",
       "      <td>0</td>\n",
       "      <td>0</td>\n",
       "      <td>0</td>\n",
       "      <td>3</td>\n",
       "      <td>24.0</td>\n",
       "      <td>0</td>\n",
       "      <td>0</td>\n",
       "      <td>6</td>\n",
       "      <td>6</td>\n",
       "      <td>0</td>\n",
       "      <td>0</td>\n",
       "      <td>1</td>\n",
       "      <td>0.0</td>\n",
       "      <td>0</td>\n",
       "      <td>0</td>\n",
       "      <td>1</td>\n",
       "    </tr>\n",
       "    <tr>\n",
       "      <th>3</th>\n",
       "      <td>50</td>\n",
       "      <td>59</td>\n",
       "      <td>0</td>\n",
       "      <td>0</td>\n",
       "      <td>0</td>\n",
       "      <td>3</td>\n",
       "      <td>23.0</td>\n",
       "      <td>0</td>\n",
       "      <td>0</td>\n",
       "      <td>8</td>\n",
       "      <td>6</td>\n",
       "      <td>0</td>\n",
       "      <td>0</td>\n",
       "      <td>1</td>\n",
       "      <td>0.0</td>\n",
       "      <td>0</td>\n",
       "      <td>0</td>\n",
       "      <td>1</td>\n",
       "    </tr>\n",
       "    <tr>\n",
       "      <th>4</th>\n",
       "      <td>40</td>\n",
       "      <td>49</td>\n",
       "      <td>0</td>\n",
       "      <td>0</td>\n",
       "      <td>0</td>\n",
       "      <td>1</td>\n",
       "      <td>27.0</td>\n",
       "      <td>0</td>\n",
       "      <td>0</td>\n",
       "      <td>8</td>\n",
       "      <td>8</td>\n",
       "      <td>0</td>\n",
       "      <td>0</td>\n",
       "      <td>1</td>\n",
       "      <td>0.0</td>\n",
       "      <td>0</td>\n",
       "      <td>0</td>\n",
       "      <td>1</td>\n",
       "    </tr>\n",
       "  </tbody>\n",
       "</table>\n",
       "</div>"
      ],
      "text/plain": [
       "   Age Above  Age Below  Gender  Family_Diabetes  highBP  PhysicallyActive  \\\n",
       "0         50         59       0                0       1                 3   \n",
       "1         50         59       0                0       1                 1   \n",
       "2         40         49       0                0       0                 3   \n",
       "3         50         59       0                0       0                 3   \n",
       "4         40         49       0                0       0                 1   \n",
       "\n",
       "    BMI  Smoking  Alcohol  Sleep  SoundSleep  RegularMedicine  JunkFood  \\\n",
       "0  39.0        0        0      8           6                0         0   \n",
       "1  28.0        0        0      8           6                1         2   \n",
       "2  24.0        0        0      6           6                0         0   \n",
       "3  23.0        0        0      8           6                0         0   \n",
       "4  27.0        0        0      8           8                0         0   \n",
       "\n",
       "   Stress  Pregancies  Pdiabetes  UriationFreq  Diabetic  \n",
       "0       1         0.0          0             0         1  \n",
       "1       1         0.0          0             0         1  \n",
       "2       1         0.0          0             0         1  \n",
       "3       1         0.0          0             0         1  \n",
       "4       1         0.0          0             0         1  "
      ]
     },
     "execution_count": 75,
     "metadata": {},
     "output_type": "execute_result"
    }
   ],
   "source": [
    "diabetes_imputed.to_csv('diab_clean.csv', encoding='utf-8', index=False)\n",
    "diabetic_clean = pd.read_csv('diab_clean.csv')\n",
    "diabetic_clean['Diabetic'] = diabetic_clean['Diabetic'].fillna(1)\n",
    "diabetic_clean.head()"
   ]
  },
  {
   "cell_type": "code",
   "execution_count": 76,
   "metadata": {},
   "outputs": [
    {
     "data": {
      "text/html": [
       "<div>\n",
       "<style scoped>\n",
       "    .dataframe tbody tr th:only-of-type {\n",
       "        vertical-align: middle;\n",
       "    }\n",
       "\n",
       "    .dataframe tbody tr th {\n",
       "        vertical-align: top;\n",
       "    }\n",
       "\n",
       "    .dataframe thead th {\n",
       "        text-align: right;\n",
       "    }\n",
       "</style>\n",
       "<table border=\"1\" class=\"dataframe\">\n",
       "  <thead>\n",
       "    <tr style=\"text-align: right;\">\n",
       "      <th></th>\n",
       "      <th>Age Above</th>\n",
       "      <th>Age Below</th>\n",
       "      <th>Gender</th>\n",
       "      <th>Family_Diabetes</th>\n",
       "      <th>highBP</th>\n",
       "      <th>PhysicallyActive</th>\n",
       "      <th>BMI</th>\n",
       "      <th>Smoking</th>\n",
       "      <th>Alcohol</th>\n",
       "      <th>Sleep</th>\n",
       "      <th>SoundSleep</th>\n",
       "      <th>RegularMedicine</th>\n",
       "      <th>JunkFood</th>\n",
       "      <th>Stress</th>\n",
       "      <th>Pregancies</th>\n",
       "      <th>Pdiabetes</th>\n",
       "      <th>UriationFreq</th>\n",
       "      <th>Diabetic</th>\n",
       "    </tr>\n",
       "  </thead>\n",
       "  <tbody>\n",
       "  </tbody>\n",
       "</table>\n",
       "</div>"
      ],
      "text/plain": [
       "Empty DataFrame\n",
       "Columns: [Age Above, Age Below, Gender, Family_Diabetes, highBP, PhysicallyActive, BMI, Smoking, Alcohol, Sleep, SoundSleep, RegularMedicine, JunkFood, Stress, Pregancies, Pdiabetes, UriationFreq, Diabetic]\n",
       "Index: []"
      ]
     },
     "execution_count": 76,
     "metadata": {},
     "output_type": "execute_result"
    }
   ],
   "source": [
    "not_diabetic.to_csv('not_diab_clean.csv', encoding='utf-8', index=False)\n",
    "not_diabetic_clean = pd.read_csv('not_diab_clean.csv')\n",
    "not_diabetic_clean['Diabetic'] = not_diabetic_clean['Diabetic'].fillna(0)\n",
    "not_diabetic_clean.head()"
   ]
  },
  {
   "cell_type": "code",
   "execution_count": 77,
   "metadata": {},
   "outputs": [],
   "source": [
    "frames = [diabetic_clean, not_diabetic_clean]\n",
    "diabetes_clean = pd.concat(frames)\n",
    "diabetes_clean.to_csv('diabetes_clean_entire.csv', encoding='utf-8', index=False)"
   ]
  },
  {
   "cell_type": "code",
   "execution_count": 78,
   "metadata": {},
   "outputs": [],
   "source": [
    "diab = pd.read_csv('diab_clean.csv')\n",
    "not_diab = pd.read_csv('not_diab_clean.csv')"
   ]
  },
  {
   "cell_type": "code",
   "execution_count": 79,
   "metadata": {},
   "outputs": [
    {
     "name": "stdout",
     "output_type": "stream",
     "text": [
      "--------- Cleaned dataset merged ---------\n",
      "<class 'pandas.core.frame.DataFrame'>\n",
      "Int64Index: 951 entries, 0 to 950\n",
      "Data columns (total 18 columns):\n",
      " #   Column            Non-Null Count  Dtype  \n",
      "---  ------            --------------  -----  \n",
      " 0   Age Above         951 non-null    object \n",
      " 1   Age Below         951 non-null    object \n",
      " 2   Gender            951 non-null    object \n",
      " 3   Family_Diabetes   951 non-null    object \n",
      " 4   highBP            951 non-null    object \n",
      " 5   PhysicallyActive  951 non-null    object \n",
      " 6   BMI               951 non-null    float64\n",
      " 7   Smoking           951 non-null    object \n",
      " 8   Alcohol           951 non-null    object \n",
      " 9   Sleep             951 non-null    object \n",
      " 10  SoundSleep        951 non-null    object \n",
      " 11  RegularMedicine   951 non-null    object \n",
      " 12  JunkFood          951 non-null    object \n",
      " 13  Stress            951 non-null    object \n",
      " 14  Pregancies        951 non-null    float64\n",
      " 15  Pdiabetes         951 non-null    object \n",
      " 16  UriationFreq      951 non-null    object \n",
      " 17  Diabetic          951 non-null    object \n",
      "dtypes: float64(2), object(16)\n",
      "memory usage: 141.2+ KB\n",
      "None\n"
     ]
    }
   ],
   "source": [
    "print('--------- Cleaned dataset merged ---------')\n",
    "print(diabetes_clean.info())"
   ]
  },
  {
   "cell_type": "code",
   "execution_count": 80,
   "metadata": {},
   "outputs": [
    {
     "name": "stdout",
     "output_type": "stream",
     "text": [
      "                BMI  Pregancies\n",
      "BMI         1.00000    -0.06157\n",
      "Pregancies -0.06157     1.00000\n"
     ]
    }
   ],
   "source": [
    "print(diabetes_clean.corr())"
   ]
  },
  {
   "cell_type": "code",
   "execution_count": 81,
   "metadata": {},
   "outputs": [],
   "source": [
    "X = diabetes_clean.drop(columns = 'Diabetic', axis=1)"
   ]
  },
  {
   "cell_type": "code",
   "execution_count": 82,
   "metadata": {},
   "outputs": [],
   "source": [
    "Y = diabetes_clean['Diabetic']"
   ]
  },
  {
   "cell_type": "code",
   "execution_count": 83,
   "metadata": {},
   "outputs": [
    {
     "name": "stdout",
     "output_type": "stream",
     "text": [
      "    Age Above Age Below Gender Family_Diabetes highBP PhysicallyActive   BMI  \\\n",
      "0          50        59      0               0      1                3  39.0   \n",
      "1          50        59      0               0      1                1  28.0   \n",
      "2          40        49      0               0      0                3  24.0   \n",
      "3          50        59      0               0      0                3  23.0   \n",
      "4          40        49      0               0      0                1  27.0   \n",
      "..        ...       ...    ...             ...    ...              ...   ...   \n",
      "946         0        40      0               1      0                2  25.0   \n",
      "947        60        99      0               1      1                2  27.0   \n",
      "948        60        99      0               0      1                0  23.0   \n",
      "949        60        99      0               0      1                1  27.0   \n",
      "950        60        99      1               1      1                3  30.0   \n",
      "\n",
      "    Smoking Alcohol Sleep SoundSleep RegularMedicine JunkFood Stress  \\\n",
      "0         0       0     8          6               0        0      1   \n",
      "1         0       0     8          6               1        2      1   \n",
      "2         0       0     6          6               0        0      1   \n",
      "3         0       0     8          6               0        0      1   \n",
      "4         0       0     8          8               0        0      1   \n",
      "..      ...     ...   ...        ...             ...      ...    ...   \n",
      "946       0       0     8          6               0        1      1   \n",
      "947       0       0     6          5               1        0      1   \n",
      "948       0       0     6          5               1        0      1   \n",
      "949       0       1     6          5               1        0      2   \n",
      "950       0       0     7          4               1        0      1   \n",
      "\n",
      "     Pregancies Pdiabetes UriationFreq  \n",
      "0           0.0         0            0  \n",
      "1           0.0         0            0  \n",
      "2           0.0         0            0  \n",
      "3           0.0         0            0  \n",
      "4           0.0         0            0  \n",
      "..          ...       ...          ...  \n",
      "946         0.0         0            0  \n",
      "947         0.0         0            1  \n",
      "948         0.0         0            0  \n",
      "949         0.0         0            0  \n",
      "950         2.0         0            1  \n",
      "\n",
      "[951 rows x 17 columns]\n"
     ]
    }
   ],
   "source": [
    "print(X)"
   ]
  },
  {
   "cell_type": "code",
   "execution_count": 84,
   "metadata": {},
   "outputs": [
    {
     "name": "stdout",
     "output_type": "stream",
     "text": [
      "0      1\n",
      "1      1\n",
      "2      1\n",
      "3      1\n",
      "4      1\n",
      "      ..\n",
      "946    2\n",
      "947    2\n",
      "948    1\n",
      "949    1\n",
      "950    2\n",
      "Name: Diabetic, Length: 951, dtype: object\n"
     ]
    }
   ],
   "source": [
    "print(Y)"
   ]
  },
  {
   "cell_type": "code",
   "execution_count": 85,
   "metadata": {},
   "outputs": [],
   "source": [
    "Y.replace('2','0', inplace=True)"
   ]
  },
  {
   "cell_type": "code",
   "execution_count": 86,
   "metadata": {},
   "outputs": [
    {
     "name": "stdout",
     "output_type": "stream",
     "text": [
      "0      1\n",
      "1      1\n",
      "2      1\n",
      "3      1\n",
      "4      1\n",
      "      ..\n",
      "946    2\n",
      "947    2\n",
      "948    1\n",
      "949    1\n",
      "950    2\n",
      "Name: Diabetic, Length: 951, dtype: int64\n"
     ]
    }
   ],
   "source": [
    "print(Y)"
   ]
  },
  {
   "cell_type": "markdown",
   "metadata": {},
   "source": [
    "### Splitting the dataset into Training and Testing"
   ]
  },
  {
   "cell_type": "code",
   "execution_count": 87,
   "metadata": {},
   "outputs": [],
   "source": [
    "from sklearn.model_selection import train_test_split\n",
    "\n",
    "#x_train, x_test, y_train, y_test = train_test_split(x, y, test_size=0.25, random_state=0)\n",
    "X_train, X_test, Y_train, Y_test = train_test_split(X, Y, test_size=0.25, random_state=42)"
   ]
  },
  {
   "cell_type": "code",
   "execution_count": 88,
   "metadata": {},
   "outputs": [
    {
     "name": "stdout",
     "output_type": "stream",
     "text": [
      "the unique values from 1st list is\n",
      "1\n",
      "2\n"
     ]
    }
   ],
   "source": [
    "# function to get unique values\n",
    "def unique(list1):\n",
    "\n",
    "# initialize a null list\n",
    "    unique_list = []\n",
    "\n",
    "# traverse for all elements\n",
    "    for x in list1:\n",
    "# check if exists in unique_list or not\n",
    "        if x not in unique_list:\n",
    "            unique_list.append(x)\n",
    "# print list\n",
    "    for x in unique_list:\n",
    "        print (x),\n",
    "\n",
    "\n",
    "# driver code\n",
    "list1 = Y_train\n",
    "print(\"the unique values from 1st list is\")\n",
    "unique(list1)\n"
   ]
  },
  {
   "cell_type": "code",
   "execution_count": 89,
   "metadata": {
    "scrolled": true
   },
   "outputs": [
    {
     "data": {
      "text/html": [
       "<div>\n",
       "<style scoped>\n",
       "    .dataframe tbody tr th:only-of-type {\n",
       "        vertical-align: middle;\n",
       "    }\n",
       "\n",
       "    .dataframe tbody tr th {\n",
       "        vertical-align: top;\n",
       "    }\n",
       "\n",
       "    .dataframe thead th {\n",
       "        text-align: right;\n",
       "    }\n",
       "</style>\n",
       "<table border=\"1\" class=\"dataframe\">\n",
       "  <thead>\n",
       "    <tr style=\"text-align: right;\">\n",
       "      <th></th>\n",
       "      <th>Age Above</th>\n",
       "      <th>Age Below</th>\n",
       "      <th>Gender</th>\n",
       "      <th>Family_Diabetes</th>\n",
       "      <th>highBP</th>\n",
       "      <th>PhysicallyActive</th>\n",
       "      <th>BMI</th>\n",
       "      <th>Smoking</th>\n",
       "      <th>Alcohol</th>\n",
       "      <th>Sleep</th>\n",
       "      <th>SoundSleep</th>\n",
       "      <th>RegularMedicine</th>\n",
       "      <th>JunkFood</th>\n",
       "      <th>Stress</th>\n",
       "      <th>Pregancies</th>\n",
       "      <th>Pdiabetes</th>\n",
       "      <th>UriationFreq</th>\n",
       "    </tr>\n",
       "  </thead>\n",
       "  <tbody>\n",
       "    <tr>\n",
       "      <th>499</th>\n",
       "      <td>0</td>\n",
       "      <td>40</td>\n",
       "      <td>0</td>\n",
       "      <td>1</td>\n",
       "      <td>0</td>\n",
       "      <td>2</td>\n",
       "      <td>24.0</td>\n",
       "      <td>1</td>\n",
       "      <td>0</td>\n",
       "      <td>8</td>\n",
       "      <td>8</td>\n",
       "      <td>0</td>\n",
       "      <td>0</td>\n",
       "      <td>1</td>\n",
       "      <td>0.0</td>\n",
       "      <td>0</td>\n",
       "      <td>0</td>\n",
       "    </tr>\n",
       "    <tr>\n",
       "      <th>328</th>\n",
       "      <td>0</td>\n",
       "      <td>40</td>\n",
       "      <td>0</td>\n",
       "      <td>1</td>\n",
       "      <td>0</td>\n",
       "      <td>2</td>\n",
       "      <td>21.0</td>\n",
       "      <td>0</td>\n",
       "      <td>0</td>\n",
       "      <td>5</td>\n",
       "      <td>5</td>\n",
       "      <td>0</td>\n",
       "      <td>2</td>\n",
       "      <td>1</td>\n",
       "      <td>0.0</td>\n",
       "      <td>0</td>\n",
       "      <td>0</td>\n",
       "    </tr>\n",
       "    <tr>\n",
       "      <th>629</th>\n",
       "      <td>50</td>\n",
       "      <td>59</td>\n",
       "      <td>1</td>\n",
       "      <td>0</td>\n",
       "      <td>0</td>\n",
       "      <td>1</td>\n",
       "      <td>33.0</td>\n",
       "      <td>0</td>\n",
       "      <td>0</td>\n",
       "      <td>7</td>\n",
       "      <td>5</td>\n",
       "      <td>1</td>\n",
       "      <td>0</td>\n",
       "      <td>1</td>\n",
       "      <td>0.0</td>\n",
       "      <td>0</td>\n",
       "      <td>1</td>\n",
       "    </tr>\n",
       "    <tr>\n",
       "      <th>280</th>\n",
       "      <td>0</td>\n",
       "      <td>40</td>\n",
       "      <td>0</td>\n",
       "      <td>1</td>\n",
       "      <td>0</td>\n",
       "      <td>1</td>\n",
       "      <td>21.0</td>\n",
       "      <td>0</td>\n",
       "      <td>0</td>\n",
       "      <td>6</td>\n",
       "      <td>6</td>\n",
       "      <td>0</td>\n",
       "      <td>0</td>\n",
       "      <td>0</td>\n",
       "      <td>0.0</td>\n",
       "      <td>0</td>\n",
       "      <td>0</td>\n",
       "    </tr>\n",
       "    <tr>\n",
       "      <th>196</th>\n",
       "      <td>0</td>\n",
       "      <td>40</td>\n",
       "      <td>1</td>\n",
       "      <td>1</td>\n",
       "      <td>0</td>\n",
       "      <td>1</td>\n",
       "      <td>21.0</td>\n",
       "      <td>0</td>\n",
       "      <td>0</td>\n",
       "      <td>8</td>\n",
       "      <td>7</td>\n",
       "      <td>0</td>\n",
       "      <td>1</td>\n",
       "      <td>1</td>\n",
       "      <td>0.0</td>\n",
       "      <td>0</td>\n",
       "      <td>0</td>\n",
       "    </tr>\n",
       "  </tbody>\n",
       "</table>\n",
       "</div>"
      ],
      "text/plain": [
       "    Age Above Age Below Gender Family_Diabetes highBP PhysicallyActive   BMI  \\\n",
       "499         0        40      0               1      0                2  24.0   \n",
       "328         0        40      0               1      0                2  21.0   \n",
       "629        50        59      1               0      0                1  33.0   \n",
       "280         0        40      0               1      0                1  21.0   \n",
       "196         0        40      1               1      0                1  21.0   \n",
       "\n",
       "    Smoking Alcohol Sleep SoundSleep RegularMedicine JunkFood Stress  \\\n",
       "499       1       0     8          8               0        0      1   \n",
       "328       0       0     5          5               0        2      1   \n",
       "629       0       0     7          5               1        0      1   \n",
       "280       0       0     6          6               0        0      0   \n",
       "196       0       0     8          7               0        1      1   \n",
       "\n",
       "     Pregancies Pdiabetes UriationFreq  \n",
       "499         0.0         0            0  \n",
       "328         0.0         0            0  \n",
       "629         0.0         0            1  \n",
       "280         0.0         0            0  \n",
       "196         0.0         0            0  "
      ]
     },
     "execution_count": 89,
     "metadata": {},
     "output_type": "execute_result"
    }
   ],
   "source": [
    "X_train.head()"
   ]
  },
  {
   "cell_type": "code",
   "execution_count": 90,
   "metadata": {},
   "outputs": [
    {
     "data": {
      "text/plain": [
       "Age Above            object\n",
       "Age Below            object\n",
       "Gender               object\n",
       "Family_Diabetes      object\n",
       "highBP               object\n",
       "PhysicallyActive     object\n",
       "BMI                 float64\n",
       "Smoking              object\n",
       "Alcohol              object\n",
       "Sleep                object\n",
       "SoundSleep           object\n",
       "RegularMedicine      object\n",
       "JunkFood             object\n",
       "Stress               object\n",
       "Pregancies          float64\n",
       "Pdiabetes            object\n",
       "UriationFreq         object\n",
       "dtype: object"
      ]
     },
     "execution_count": 90,
     "metadata": {},
     "output_type": "execute_result"
    }
   ],
   "source": [
    "X_train.dtypes"
   ]
  },
  {
   "cell_type": "code",
   "execution_count": 91,
   "metadata": {},
   "outputs": [
    {
     "data": {
      "text/plain": [
       "count    713.000000\n",
       "mean       1.276297\n",
       "std        0.447480\n",
       "min        1.000000\n",
       "25%        1.000000\n",
       "50%        1.000000\n",
       "75%        2.000000\n",
       "max        2.000000\n",
       "Name: Diabetic, dtype: float64"
      ]
     },
     "execution_count": 91,
     "metadata": {},
     "output_type": "execute_result"
    }
   ],
   "source": [
    "Y_train.describe()"
   ]
  },
  {
   "cell_type": "code",
   "execution_count": 92,
   "metadata": {},
   "outputs": [
    {
     "data": {
      "text/plain": [
       "dtype('int64')"
      ]
     },
     "execution_count": 92,
     "metadata": {},
     "output_type": "execute_result"
    }
   ],
   "source": [
    "Y_train.dtypes"
   ]
  },
  {
   "cell_type": "code",
   "execution_count": 93,
   "metadata": {},
   "outputs": [
    {
     "data": {
      "text/plain": [
       "499    1\n",
       "328    1\n",
       "629    2\n",
       "280    1\n",
       "196    1\n",
       "      ..\n",
       "106    2\n",
       "270    2\n",
       "860    1\n",
       "435    1\n",
       "102    2\n",
       "Name: Diabetic, Length: 713, dtype: int32"
      ]
     },
     "execution_count": 93,
     "metadata": {},
     "output_type": "execute_result"
    }
   ],
   "source": [
    "Y_train.astype(int)"
   ]
  },
  {
   "cell_type": "code",
   "execution_count": 94,
   "metadata": {},
   "outputs": [
    {
     "name": "stdout",
     "output_type": "stream",
     "text": [
      "(713, 17)\n"
     ]
    }
   ],
   "source": [
    "print(X_train.shape)"
   ]
  },
  {
   "cell_type": "code",
   "execution_count": 95,
   "metadata": {},
   "outputs": [
    {
     "name": "stdout",
     "output_type": "stream",
     "text": [
      "(238, 17)\n"
     ]
    }
   ],
   "source": [
    "print(X_test.shape)"
   ]
  },
  {
   "cell_type": "markdown",
   "metadata": {},
   "source": [
    "### Logistic Regression Model"
   ]
  },
  {
   "cell_type": "code",
   "execution_count": 96,
   "metadata": {},
   "outputs": [],
   "source": [
    "import pandas as pd\n",
    "import numpy as np\n",
    "import matplotlib.pyplot as plt"
   ]
  },
  {
   "cell_type": "code",
   "execution_count": 97,
   "metadata": {},
   "outputs": [
    {
     "name": "stdout",
     "output_type": "stream",
     "text": [
      "[[-0.9338091  -0.65641145 -0.79237231  1.02989982 -0.55088428  0.42046652\n",
      "  -0.32983744  2.75506106 -0.48989795  0.8145556   1.32424384 -0.72353595\n",
      "  -0.57602648 -0.26669129 -0.39977438 -0.13083731 -0.67681438]\n",
      " [-0.9338091  -0.65641145 -0.79237231  1.02989982 -0.55088428  0.42046652\n",
      "  -0.87888201 -0.36296836 -0.48989795 -1.56893882 -0.25466228 -0.72353595\n",
      "   1.88329614 -0.26669129 -0.39977438 -0.13083731 -0.67681438]\n",
      " [ 1.03953379  0.2906975   1.26203299 -0.97096822 -0.55088428 -0.60622057\n",
      "   1.31729628 -0.36296836 -0.48989795  0.02005746 -0.25466228  1.38210133\n",
      "  -0.57602648 -0.26669129 -0.39977438 -0.13083731  1.47750997]\n",
      " [-0.9338091  -0.65641145 -0.79237231  1.02989982 -0.55088428 -0.60622057\n",
      "  -0.87888201 -0.36296836 -0.48989795 -0.77444068  0.27163976 -0.72353595\n",
      "  -0.57602648 -1.517684   -0.39977438 -0.13083731 -0.67681438]\n",
      " [-0.9338091  -0.65641145  1.26203299  1.02989982 -0.55088428 -0.60622057\n",
      "  -0.87888201 -0.36296836 -0.48989795  0.8145556   0.7979418  -0.72353595\n",
      "   0.65363483 -0.26669129 -0.39977438 -0.13083731 -0.67681438]\n",
      " [-0.9338091  -0.65641145 -0.79237231  1.02989982 -0.55088428 -0.60622057\n",
      "   0.58523685 -0.36296836 -0.48989795  0.8145556   0.7979418  -0.72353595\n",
      "   0.65363483 -0.26669129 -0.39977438 -0.13083731 -0.67681438]\n",
      " [-0.9338091  -0.65641145  1.26203299 -0.97096822 -0.55088428 -0.60622057\n",
      "  -1.61094144 -0.36296836 -0.48989795 -2.36343696 -0.78096431 -0.72353595\n",
      "  -0.57602648 -0.26669129 -0.39977438 -0.13083731  1.47750997]\n",
      " [ 1.03953379  0.2906975   1.26203299  1.02989982 -0.55088428 -1.63290766\n",
      "  -0.87888201 -0.36296836 -0.48989795  0.8145556   1.32424384  1.38210133\n",
      "  -0.57602648  0.98430142 -0.39977438 -0.13083731  1.47750997]\n",
      " [-0.9338091  -0.65641145  1.26203299 -0.97096822 -0.55088428 -0.60622057\n",
      "  -1.24491172 -0.36296836 -0.48989795  0.8145556   1.32424384 -0.72353595\n",
      "  -0.57602648 -0.26669129 -0.39977438 -0.13083731 -0.67681438]\n",
      " [-0.9338091  -0.65641145 -0.79237231 -0.97096822 -0.55088428  1.44715362\n",
      "  -0.69586715  2.75506106 -0.48989795  1.60905373 -1.83356839 -0.72353595\n",
      "   3.11295745  2.23529413 -0.39977438 -0.13083731  1.47750997]]\n"
     ]
    }
   ],
   "source": [
    "from sklearn.preprocessing import StandardScaler\n",
    "\n",
    "sc_x = StandardScaler()\n",
    "X_train = sc_x.fit_transform(X_train)\n",
    "X_test = sc_x.transform(X_test)\n",
    "\n",
    "print (X_train[0:10, :])\n",
    "#print(X_train.shape)"
   ]
  },
  {
   "cell_type": "code",
   "execution_count": 98,
   "metadata": {},
   "outputs": [
    {
     "name": "stdout",
     "output_type": "stream",
     "text": [
      "(713, 17)\n",
      "(713,)\n",
      "(238, 17)\n",
      "(238,)\n"
     ]
    }
   ],
   "source": [
    "print(X_train.shape)\n",
    "print(Y_train.shape)\n",
    "print(X_test.shape)\n",
    "print(Y_test.shape)"
   ]
  },
  {
   "cell_type": "code",
   "execution_count": 99,
   "metadata": {},
   "outputs": [
    {
     "data": {
      "text/plain": [
       "LogisticRegression(random_state=0)"
      ]
     },
     "execution_count": 99,
     "metadata": {},
     "output_type": "execute_result"
    }
   ],
   "source": [
    "from sklearn.linear_model import LogisticRegression\n",
    "\n",
    "classifier = LogisticRegression(random_state = 0)\n",
    "classifier.fit(X_train, Y_train)"
   ]
  },
  {
   "cell_type": "code",
   "execution_count": 100,
   "metadata": {},
   "outputs": [],
   "source": [
    "y_pred_lr = classifier.predict(X_test)"
   ]
  },
  {
   "cell_type": "code",
   "execution_count": 101,
   "metadata": {
    "scrolled": true
   },
   "outputs": [
    {
     "name": "stdout",
     "output_type": "stream",
     "text": [
      "[1 1 1 2 2 1 2 1 1 1 1 1 1 2 1 1 1 1 2 1 2 1 1 1 1 1 1 2 1 1 1 1 2 1 2 1 1\n",
      " 1 1 2 1 1 1 1 2 1 1 1 2 1 1 1 2 1 1 1 1 1 1 1 1 1 1 2 1 1 2 1 1 2 1 1 1 2\n",
      " 1 1 2 1 1 2 1 2 1 1 2 2 1 2 1 1 1 1 1 1 1 1 2 2 1 1 1 1 1 1 2 1 1 1 1 1 1\n",
      " 1 2 1 1 2 2 2 2 1 1 1 1 1 2 2 1 2 2 1 1 1 2 1 1 1 1 2 1 1 2 1 1 2 1 2 1 1\n",
      " 1 1 1 1 2 1 2 1 1 2 1 1 1 1 1 2 1 1 1 1 1 2 1 1 2 2 1 1 1 1 1 2 1 2 1 2 1\n",
      " 1 2 2 2 1 1 1 2 1 2 1 2 1 1 1 1 1 1 1 1 1 1 2 1 1 2 1 1 1 2 1 1 1 2 1 1 1\n",
      " 1 1 1 1 1 1 1 2 1 1 1 2 1 1 1 1]\n"
     ]
    }
   ],
   "source": [
    "print(y_pred_lr)"
   ]
  },
  {
   "cell_type": "code",
   "execution_count": 132,
   "metadata": {},
   "outputs": [
    {
     "name": "stdout",
     "output_type": "stream",
     "text": [
      "Accuracy: 0.8781512605042017\n",
      "Precision: 0.8977272727272727\n",
      "Recall: 0.9349112426035503\n",
      "F1-Score: 0.9159420289855071\n",
      "ROC AUC: 0.8370208386930794\n",
      "AUC-PR: 0.6754135515630189\n"
     ]
    }
   ],
   "source": [
    "rc_lr=roc_auc_score(Y_test,y_pred_lr)\n",
    "accuracy_lr = accuracy_score(Y_test, y_pred_lr)\n",
    "precision_lr = precision_score(Y_test, y_pred_lr)\n",
    "recall_lr = recall_score(Y_test, y_pred_lr)\n",
    "f1_lr = f1_score(Y_test, y_pred_lr)\n",
    "auc_pr_lr = average_precision_score(Y_test, y_pred_lr)\n",
    "\n",
    "\n",
    "print(\"Accuracy:\", accuracy_lr)\n",
    "print(\"Precision:\", precision_lr)\n",
    "print(\"Recall:\", recall_lr)\n",
    "print(\"F1-Score:\", f1_lr)\n",
    "print(\"ROC AUC:\", rc_lr)\n",
    "print(\"AUC-PR:\", auc_pr_lr)"
   ]
  },
  {
   "cell_type": "code",
   "execution_count": 102,
   "metadata": {},
   "outputs": [
    {
     "name": "stdout",
     "output_type": "stream",
     "text": [
      "Confusion Matrix : \n",
      " [[158  11]\n",
      " [ 18  51]]\n"
     ]
    }
   ],
   "source": [
    "from sklearn.metrics import confusion_matrix\n",
    "\n",
    "cm = confusion_matrix(Y_test, y_pred_lr)\n",
    "print (\"Confusion Matrix : \\n\", cm)"
   ]
  },
  {
   "cell_type": "code",
   "execution_count": 103,
   "metadata": {},
   "outputs": [
    {
     "name": "stdout",
     "output_type": "stream",
     "text": [
      "Accuracy :  0.8781512605042017\n"
     ]
    }
   ],
   "source": [
    "from sklearn.metrics import accuracy_score\n",
    "accu_lr=accuracy_score(Y_test, y_pred_lr)\n",
    "print (\"Accuracy : \", accu_lr)"
   ]
  },
  {
   "cell_type": "code",
   "execution_count": 104,
   "metadata": {},
   "outputs": [
    {
     "name": "stdout",
     "output_type": "stream",
     "text": [
      "Precision :  0.8977272727272727\n"
     ]
    }
   ],
   "source": [
    "from sklearn.metrics import precision_score\n",
    "pre_lr=precision_score(Y_test, y_pred_lr)\n",
    "print (\"Precision : \", pre_lr)"
   ]
  },
  {
   "cell_type": "code",
   "execution_count": 105,
   "metadata": {},
   "outputs": [],
   "source": [
    "s = pd.Series(y_pred_lr)"
   ]
  },
  {
   "cell_type": "markdown",
   "metadata": {},
   "source": [
    "# random forest"
   ]
  },
  {
   "cell_type": "code",
   "execution_count": 106,
   "metadata": {},
   "outputs": [],
   "source": [
    "from sklearn.ensemble import RandomForestClassifier\n",
    "import pandas as pd"
   ]
  },
  {
   "cell_type": "code",
   "execution_count": 107,
   "metadata": {},
   "outputs": [
    {
     "name": "stdout",
     "output_type": "stream",
     "text": [
      "Accuracy :  0.9663865546218487\n"
     ]
    }
   ],
   "source": [
    "clf = RandomForestClassifier(n_estimators = 100)  \n",
    "  \n",
    "# Training the model on the training dataset\n",
    "# fit function is used to train the model using the training sets as parameters\n",
    "clf.fit(X_train, Y_train)\n",
    "  \n",
    "# performing predictions on the test dataset\n",
    "y_pred_rfc = clf.predict(X_test)\n",
    "  \n",
    "# metrics are used to find accuracy or error\n",
    "from sklearn import metrics  \n",
    "accu_rfc=accuracy_score(Y_test, y_pred_rfc)\n",
    "print (\"Accuracy : \", accu_rfc)"
   ]
  },
  {
   "cell_type": "code",
   "execution_count": 108,
   "metadata": {},
   "outputs": [
    {
     "name": "stdout",
     "output_type": "stream",
     "text": [
      "[1 1 1 2 2 1 2 1 1 1 1 1 1 2 1 2 2 1 2 1 2 1 1 1 1 1 1 2 1 1 1 1 1 1 2 1 1\n",
      " 1 2 2 1 1 1 1 1 1 1 1 2 1 1 1 1 1 1 1 1 1 1 1 1 1 1 2 1 1 2 2 1 2 1 1 1 2\n",
      " 1 2 2 1 1 1 2 2 1 1 2 2 1 2 1 1 1 1 1 1 1 2 2 2 1 2 1 1 1 1 2 1 1 1 1 1 1\n",
      " 1 2 1 1 2 2 2 2 1 1 1 1 1 2 2 1 2 2 1 1 2 2 1 1 1 1 2 1 1 2 1 1 2 1 1 1 1\n",
      " 1 1 1 1 2 1 2 1 1 2 2 1 1 1 1 1 1 2 1 1 1 2 1 1 2 2 2 1 1 1 1 2 1 2 1 2 1\n",
      " 1 2 2 2 1 1 2 2 1 2 1 2 1 1 2 1 1 1 1 1 1 1 1 1 2 2 1 1 1 2 1 1 1 2 1 1 1\n",
      " 1 1 1 1 1 1 2 2 1 2 1 1 1 1 1 1]\n"
     ]
    }
   ],
   "source": [
    "print(y_pred_rfc)"
   ]
  },
  {
   "cell_type": "code",
   "execution_count": 129,
   "metadata": {},
   "outputs": [
    {
     "name": "stdout",
     "output_type": "stream",
     "text": [
      "Accuracy: 0.9663865546218487\n",
      "Precision: 0.9820359281437125\n",
      "Recall: 0.9704142011834319\n",
      "F1-Score: 0.9761904761904762\n",
      "ROC AUC: 0.9634679701569333\n",
      "AUC-PR: 0.6911591372110141\n"
     ]
    }
   ],
   "source": [
    "#Runnung he metrics\n",
    "rc_rfc=roc_auc_score(Y_test,y_pred_rfc)\n",
    "accuracy_rfc = accuracy_score(Y_test, y_pred_rfc)\n",
    "precision_rfc = precision_score(Y_test, y_pred_rfc)\n",
    "recall_rfc = recall_score(Y_test, y_pred_rfc)\n",
    "f1_rfc = f1_score(Y_test, y_pred_rfc)\n",
    "auc_pr_rfc = average_precision_score(Y_test, y_pred_rfc)\n",
    "\n",
    "#printing the Result\n",
    "print(\"Accuracy:\", accuracy_rfc)\n",
    "print(\"Precision:\", precision_rfc)\n",
    "print(\"Recall:\", recall_rfc)\n",
    "print(\"F1-Score:\", f1_rfc)\n",
    "print(\"ROC AUC:\", rc_rfc)\n",
    "print(\"AUC-PR:\", auc_pr_rfc)"
   ]
  },
  {
   "cell_type": "code",
   "execution_count": 109,
   "metadata": {},
   "outputs": [
    {
     "name": "stdout",
     "output_type": "stream",
     "text": [
      "Confusion Matrix : \n",
      " [[164   5]\n",
      " [  3  66]]\n"
     ]
    }
   ],
   "source": [
    "from sklearn.metrics import confusion_matrix\n",
    "\n",
    "cm = confusion_matrix(Y_test, y_pred_rfc)\n",
    "print (\"Confusion Matrix : \\n\", cm)"
   ]
  },
  {
   "cell_type": "code",
   "execution_count": 110,
   "metadata": {},
   "outputs": [
    {
     "name": "stdout",
     "output_type": "stream",
     "text": [
      "Precision :  0.9820359281437125\n"
     ]
    }
   ],
   "source": [
    "from sklearn.metrics import precision_score\n",
    "\n",
    "pre_rfc=precision_score(Y_test, y_pred_rfc)\n",
    "print (\"Precision : \", pre_rfc)"
   ]
  },
  {
   "cell_type": "code",
   "execution_count": 111,
   "metadata": {},
   "outputs": [],
   "source": [
    "s = pd.Series(y_pred_rfc)"
   ]
  },
  {
   "cell_type": "markdown",
   "metadata": {},
   "source": [
    "# SVM"
   ]
  },
  {
   "cell_type": "code",
   "execution_count": 112,
   "metadata": {},
   "outputs": [
    {
     "data": {
      "text/plain": [
       "SVC(degree=5, kernel='poly', random_state=42)"
      ]
     },
     "execution_count": 112,
     "metadata": {},
     "output_type": "execute_result"
    }
   ],
   "source": [
    "import numpy as np\n",
    "import matplotlib.pyplot as plt\n",
    "from sklearn.datasets import load_iris\n",
    "from sklearn.svm import SVC\n",
    "from sklearn.model_selection import train_test_split\n",
    " \n",
    "# Create a non-linear kernel SVM classifier\n",
    "svm = SVC(kernel='poly',degree=5, random_state=42)\n",
    "svm.fit(X_train, Y_train)"
   ]
  },
  {
   "cell_type": "code",
   "execution_count": 113,
   "metadata": {},
   "outputs": [],
   "source": [
    "y_pred_SVM = svm.predict(X_test)"
   ]
  },
  {
   "cell_type": "code",
   "execution_count": 114,
   "metadata": {},
   "outputs": [
    {
     "name": "stdout",
     "output_type": "stream",
     "text": [
      "[1 1 1 2 2 1 2 1 1 1 1 1 1 1 1 2 2 1 2 1 2 1 1 1 1 1 1 2 1 1 1 1 1 1 1 1 1\n",
      " 1 2 2 1 1 1 1 1 1 1 1 2 1 1 1 1 1 1 1 1 1 1 1 1 1 1 2 1 1 2 1 1 2 1 1 1 2\n",
      " 1 2 2 1 1 1 1 2 1 1 2 1 1 2 1 1 1 1 1 1 1 1 2 1 1 1 1 1 1 1 2 1 1 1 1 1 1\n",
      " 1 2 1 1 2 2 2 2 1 1 1 1 1 2 2 1 2 2 1 1 1 2 1 1 1 1 2 1 1 2 1 1 2 1 1 1 1\n",
      " 1 1 1 1 2 1 1 1 1 2 1 1 1 1 1 1 1 1 1 1 1 1 1 1 2 2 2 1 1 1 1 1 1 2 1 1 1\n",
      " 1 2 2 1 1 1 2 2 1 1 1 2 1 1 1 1 1 1 1 1 1 1 1 1 2 2 1 1 1 2 1 1 1 2 1 1 1\n",
      " 1 1 1 1 1 1 2 2 1 1 1 1 1 1 1 1]\n"
     ]
    }
   ],
   "source": [
    "print(y_pred_SVM)"
   ]
  },
  {
   "cell_type": "code",
   "execution_count": 131,
   "metadata": {},
   "outputs": [
    {
     "name": "stdout",
     "output_type": "stream",
     "text": [
      "Accuracy: 0.8949579831932774\n",
      "Precision: 0.8870967741935484\n",
      "Recall: 0.9763313609467456\n",
      "F1-Score: 0.9295774647887324\n",
      "ROC AUC: 0.8359917674298946\n",
      "AUC-PR: 0.6950979754669278\n"
     ]
    }
   ],
   "source": [
    "#Runnung he metrics\n",
    "rc_svm=roc_auc_score(Y_test,y_pred_SVM)\n",
    "accuracy_svm = accuracy_score(Y_test, y_pred_SVM)\n",
    "precision_svm = precision_score(Y_test, y_pred_SVM)\n",
    "recall_svm = recall_score(Y_test, y_pred_SVM)\n",
    "f1_svm = f1_score(Y_test, y_pred_SVM)\n",
    "auc_pr_svm = average_precision_score(Y_test, y_pred_SVM)\n",
    "\n",
    "#printing the Result\n",
    "print(\"Accuracy:\", accuracy_svm)\n",
    "print(\"Precision:\", precision_svm)\n",
    "print(\"Recall:\", recall_svm)\n",
    "print(\"F1-Score:\", f1_svm)\n",
    "print(\"ROC AUC:\", rc_svm)\n",
    "print(\"AUC-PR:\", auc_pr_svm)"
   ]
  },
  {
   "cell_type": "code",
   "execution_count": 115,
   "metadata": {},
   "outputs": [
    {
     "name": "stdout",
     "output_type": "stream",
     "text": [
      "Confusion Matrix : \n",
      " [[165   4]\n",
      " [ 21  48]]\n"
     ]
    }
   ],
   "source": [
    "from sklearn.metrics import confusion_matrix\n",
    "\n",
    "cm = confusion_matrix(Y_test, y_pred_SVM)\n",
    "print (\"Confusion Matrix : \\n\", cm)"
   ]
  },
  {
   "cell_type": "code",
   "execution_count": 116,
   "metadata": {},
   "outputs": [
    {
     "name": "stdout",
     "output_type": "stream",
     "text": [
      "Precision :  0.8870967741935484\n"
     ]
    }
   ],
   "source": [
    "from sklearn.metrics import precision_score\n",
    "pre_svm=precision_score(Y_test, y_pred_SVM)\n",
    "print(\"Precision : \", pre_svm)"
   ]
  },
  {
   "cell_type": "code",
   "execution_count": 117,
   "metadata": {},
   "outputs": [
    {
     "name": "stdout",
     "output_type": "stream",
     "text": [
      "Accuracy :  0.8949579831932774\n"
     ]
    }
   ],
   "source": [
    "from sklearn.metrics import accuracy_score\n",
    "accu_svm=accuracy_score(Y_test, y_pred_SVM)\n",
    "print (\"Accuracy : \", accu_svm)"
   ]
  },
  {
   "cell_type": "markdown",
   "metadata": {},
   "source": [
    "# Gradient Boost"
   ]
  },
  {
   "cell_type": "code",
   "execution_count": 123,
   "metadata": {},
   "outputs": [],
   "source": [
    "from sklearn.ensemble import GradientBoostingClassifier\n",
    "clf_gbc=GradientBoostingClassifier(n_estimators=50,learning_rate=0.2)\n",
    "clf_gbc.fit(X_train, Y_train)\n",
    "y_pred_gbc=clf_gbc.predict(X_test)"
   ]
  },
  {
   "cell_type": "code",
   "execution_count": 126,
   "metadata": {},
   "outputs": [
    {
     "name": "stdout",
     "output_type": "stream",
     "text": [
      "Accuracy: 0.9453781512605042\n",
      "Precision: 0.9534883720930233\n",
      "Recall: 0.9704142011834319\n",
      "F1-Score: 0.9618768328445748\n",
      "ROC AUC: 0.9272360860989622\n",
      "AUC-PR: 0.6913169786472954\n"
     ]
    }
   ],
   "source": [
    "#Runnung he metrics\n",
    "rc_gbc=roc_auc_score(Y_test,y_pred_gbc)\n",
    "accuracy_gbc = accuracy_score(Y_test, y_pred_gbc)\n",
    "precision_gbc = precision_score(Y_test, y_pred_gbc)\n",
    "recall_gbc = recall_score(Y_test, y_pred_gbc)\n",
    "f1_gbc = f1_score(Y_test, y_pred_gbc)\n",
    "auc_pr_gbc = average_precision_score(Y_test, y_pred_gbc)\n",
    "\n",
    "#printing the Result\n",
    "print(\"Accuracy:\", accuracy_gbc)\n",
    "print(\"Precision:\", precision_gbc)\n",
    "print(\"Recall:\", recall_gbc)\n",
    "print(\"F1-Score:\", f1_gbc)\n",
    "print(\"ROC AUC:\", rc_gbc)\n",
    "print(\"AUC-PR:\", auc_pr_gbc)"
   ]
  },
  {
   "cell_type": "code",
   "execution_count": 146,
   "metadata": {},
   "outputs": [
    {
     "name": "stdout",
     "output_type": "stream",
     "text": [
      "Confusion Matrix:\n",
      "[[164   5]\n",
      " [  8  61]]\n"
     ]
    },
    {
     "data": {
      "image/png": "[encoded data removed]",
      "text/plain": [
       "<Figure size 576x432 with 2 Axes>"
      ]
     },
     "metadata": {
      "needs_background": "light"
     },
     "output_type": "display_data"
    }
   ],
   "source": [
    "conf_mat_gbc = confusion_matrix(Y_test,y_pred_gbc)\n",
    "\n",
    "print(\"Confusion Matrix:\")\n",
    "print(conf_mat_gbc)\n",
    "\n",
    "plt.figure(figsize=(8, 6))\n",
    "sns.heatmap(conf_mat_gbc, annot=True, fmt='d', cmap='Blues', annot_kws={\"size\": 16})\n",
    "plt.xlabel('Predicted Labels')\n",
    "plt.ylabel('True Labels')\n",
    "plt.title('Confusion Matrix')\n",
    "plt.show()"
   ]
  },
  {
   "cell_type": "markdown",
   "metadata": {},
   "source": [
    "# DT"
   ]
  },
  {
   "cell_type": "code",
   "execution_count": 127,
   "metadata": {},
   "outputs": [],
   "source": [
    "from sklearn.tree import DecisionTreeClassifier\n",
    "clf_dt = DecisionTreeClassifier(random_state=5)\n",
    "clf_dt.fit(X_train, Y_train)\n",
    "y_pred_dt = clf_dt.predict(X_test)"
   ]
  },
  {
   "cell_type": "code",
   "execution_count": 128,
   "metadata": {},
   "outputs": [
    {
     "name": "stdout",
     "output_type": "stream",
     "text": [
      "Accuracy: 0.9705882352941176\n",
      "Precision: 0.9709302325581395\n",
      "Recall: 0.9881656804733728\n",
      "F1-Score: 0.9794721407624634\n",
      "ROC AUC: 0.9578509561787154\n",
      "AUC-PR: 0.7020392880121388\n"
     ]
    }
   ],
   "source": [
    "#Runnung he metrics\n",
    "rc_dt=roc_auc_score(Y_test,y_pred_dt)\n",
    "accuracy_dt = accuracy_score(Y_test, y_pred_dt)\n",
    "precision_dt = precision_score(Y_test, y_pred_dt)\n",
    "recall_dt = recall_score(Y_test, y_pred_dt)\n",
    "f1_dt = f1_score(Y_test, y_pred_dt)\n",
    "auc_pr_dt = average_precision_score(Y_test, y_pred_dt)\n",
    "\n",
    "#printing the Result\n",
    "print(\"Accuracy:\", accuracy_dt)\n",
    "print(\"Precision:\", precision_dt)\n",
    "print(\"Recall:\", recall_dt)\n",
    "print(\"F1-Score:\", f1_dt)\n",
    "print(\"ROC AUC:\", rc_dt)\n",
    "print(\"AUC-PR:\", auc_pr_dt)"
   ]
  },
  {
   "cell_type": "markdown",
   "metadata": {},
   "source": [
    "# RESULT METRICS"
   ]
  },
  {
   "cell_type": "code",
   "execution_count": 133,
   "metadata": {},
   "outputs": [],
   "source": [
    "accu=[]\n",
    "prec=[]\n",
    "reca=[]\n",
    "f1Sc=[]\n",
    "ROCS=[]\n",
    "PRSC=[]"
   ]
  },
  {
   "cell_type": "code",
   "execution_count": 134,
   "metadata": {},
   "outputs": [
    {
     "name": "stdout",
     "output_type": "stream",
     "text": [
      "[0.8781512605042017, 0.8949579831932774, 0.9663865546218487, 0.9453781512605042, 0.9705882352941176]\n",
      "[0.8977272727272727, 0.8870967741935484, 0.9820359281437125, 0.9534883720930233, 0.9709302325581395]\n",
      "[0.9349112426035503, 0.9763313609467456, 0.9704142011834319, 0.9704142011834319, 0.9881656804733728]\n",
      "[0.9159420289855071, 0.9295774647887324, 0.9761904761904762, 0.9618768328445748, 0.9794721407624634]\n",
      "[0.8370208386930794, 0.8359917674298946, 0.9634679701569333, 0.9272360860989622, 0.9578509561787154]\n",
      "[0.6754135515630189, 0.6950979754669278, 0.6911591372110141, 0.6913169786472954, 0.7020392880121388]\n"
     ]
    }
   ],
   "source": [
    "accu.append(accuracy_lr)\n",
    "prec.append(precision_lr)\n",
    "reca.append(recall_lr)\n",
    "f1Sc.append(f1_lr)\n",
    "ROCS.append(rc_lr)\n",
    "PRSC.append(auc_pr_lr)\n",
    "\n",
    "\n",
    "accu.append(accuracy_svm)\n",
    "prec.append(precision_svm)\n",
    "reca.append(recall_svm)\n",
    "f1Sc.append(f1_svm)\n",
    "ROCS.append(rc_svm)\n",
    "PRSC.append(auc_pr_svm)\n",
    "\n",
    "\n",
    "accu.append(accuracy_rfc)\n",
    "prec.append(precision_rfc)\n",
    "reca.append(recall_rfc)\n",
    "f1Sc.append(f1_rfc)\n",
    "ROCS.append(rc_rfc)\n",
    "PRSC.append(auc_pr_rfc)\n",
    "\n",
    "\n",
    "accu.append(accuracy_gbc)\n",
    "prec.append(precision_gbc)\n",
    "reca.append(recall_gbc)\n",
    "f1Sc.append(f1_gbc)\n",
    "ROCS.append(rc_gbc)\n",
    "PRSC.append(auc_pr_gbc)\n",
    "\n",
    "\n",
    "#Adding to the List\n",
    "accu.append(accuracy_dt)\n",
    "prec.append(precision_dt)\n",
    "reca.append(recall_dt)\n",
    "f1Sc.append(f1_dt)\n",
    "ROCS.append(rc_dt)\n",
    "PRSC.append(auc_pr_dt)\n",
    "\n",
    "#Printing the List\n",
    "print(accu)\n",
    "print(prec)\n",
    "print(reca)\n",
    "print(f1Sc)\n",
    "print(ROCS)\n",
    "print(PRSC)"
   ]
  },
  {
   "cell_type": "code",
   "execution_count": 135,
   "metadata": {},
   "outputs": [
    {
     "data": {
      "image/png": "[encoded data removed]",
      "text/plain": [
       "<Figure size 648x288 with 1 Axes>"
      ]
     },
     "metadata": {
      "needs_background": "light"
     },
     "output_type": "display_data"
    }
   ],
   "source": [
    "#Accu\n",
    "ax=plt.figure(figsize=(9,4))\n",
    "plt.bar(['Logistic Regression','SVM','Random Forest','Gradient Boosting','DT'],accu,label='Accuracy')\n",
    "plt.ylabel('Accuracy Score')\n",
    "plt.xlabel('Algortihms')\n",
    "plt.show()"
   ]
  },
  {
   "cell_type": "code",
   "execution_count": 136,
   "metadata": {},
   "outputs": [
    {
     "data": {
      "image/png": "[encoded data removed]",
      "text/plain": [
       "<Figure size 648x288 with 1 Axes>"
      ]
     },
     "metadata": {
      "needs_background": "light"
     },
     "output_type": "display_data"
    }
   ],
   "source": [
    "#Precision\n",
    "ax=plt.figure(figsize=(9,4))\n",
    "plt.bar(['Logistic Regression','SVM','Random Forest','Gradient Boosting','DT'],prec,label='Precision')\n",
    "plt.ylabel('Precision Score')\n",
    "plt.xlabel('Algortihms')\n",
    "plt.show()"
   ]
  },
  {
   "cell_type": "code",
   "execution_count": 137,
   "metadata": {},
   "outputs": [
    {
     "data": {
      "image/png": "[encoded data removed]",
      "text/plain": [
       "<Figure size 648x288 with 1 Axes>"
      ]
     },
     "metadata": {
      "needs_background": "light"
     },
     "output_type": "display_data"
    }
   ],
   "source": [
    "#Recall\n",
    "ax=plt.figure(figsize=(9,4))\n",
    "plt.bar(['Logistic Regression','SVM','Random Forest','Gradient Boosting','DT'],reca,label='Recall')\n",
    "plt.ylabel('Recall')\n",
    "plt.xlabel('Algortihms')\n",
    "plt.show()"
   ]
  },
  {
   "cell_type": "code",
   "execution_count": 138,
   "metadata": {},
   "outputs": [
    {
     "data": {
      "image/png": "[encoded data removed]",
      "text/plain": [
       "<Figure size 648x288 with 1 Axes>"
      ]
     },
     "metadata": {
      "needs_background": "light"
     },
     "output_type": "display_data"
    }
   ],
   "source": [
    "#F1-Score\n",
    "ax=plt.figure(figsize=(9,4))\n",
    "plt.bar(['Logistic Regression','SVM','Random Forest','Gradient Boosting','DT'],f1Sc,label='F1-Score')\n",
    "plt.ylabel('F1-Score')\n",
    "plt.xlabel('Algortihms')\n",
    "plt.show()"
   ]
  },
  {
   "cell_type": "code",
   "execution_count": 139,
   "metadata": {},
   "outputs": [
    {
     "data": {
      "image/png": "[encoded data removed]",
      "text/plain": [
       "<Figure size 648x288 with 1 Axes>"
      ]
     },
     "metadata": {
      "needs_background": "light"
     },
     "output_type": "display_data"
    }
   ],
   "source": [
    "#ROC\n",
    "ax=plt.figure(figsize=(9,4))\n",
    "plt.bar(['Logistic Regression','SVM','Random Forest','Gradient Boosting','DT'],ROCS,label='ROC')\n",
    "plt.ylabel('ROC Score')\n",
    "plt.xlabel('Algortihms')\n",
    "plt.show()"
   ]
  },
  {
   "cell_type": "code",
   "execution_count": 140,
   "metadata": {},
   "outputs": [
    {
     "data": {
      "image/png": "[encoded data removed]",
      "text/plain": [
       "<Figure size 648x288 with 1 Axes>"
      ]
     },
     "metadata": {
      "needs_background": "light"
     },
     "output_type": "display_data"
    }
   ],
   "source": [
    "#PR\n",
    "ax=plt.figure(figsize=(9,4))\n",
    "plt.bar(['Logistic Regression','SVM','Random Forest','Gradient Boosting','DT'],PRSC,label='PR')\n",
    "plt.ylabel('PR Score')\n",
    "plt.xlabel('Algortihms')\n",
    "plt.show()"
   ]
  },
  {
   "cell_type": "code",
   "execution_count": 145,
   "metadata": {},
   "outputs": [
    {
     "data": {
      "text/html": [
       "<div>\n",
       "<style scoped>\n",
       "    .dataframe tbody tr th:only-of-type {\n",
       "        vertical-align: middle;\n",
       "    }\n",
       "\n",
       "    .dataframe tbody tr th {\n",
       "        vertical-align: top;\n",
       "    }\n",
       "\n",
       "    .dataframe thead th {\n",
       "        text-align: right;\n",
       "    }\n",
       "</style>\n",
       "<table border=\"1\" class=\"dataframe\">\n",
       "  <thead>\n",
       "    <tr style=\"text-align: right;\">\n",
       "      <th></th>\n",
       "      <th>Logistic Regression</th>\n",
       "      <th>SVM</th>\n",
       "      <th>Random Forest</th>\n",
       "      <th>Gradient Boosting</th>\n",
       "      <th>DT</th>\n",
       "    </tr>\n",
       "  </thead>\n",
       "  <tbody>\n",
       "    <tr>\n",
       "      <th>accuracy</th>\n",
       "      <td>0.878151</td>\n",
       "      <td>0.894958</td>\n",
       "      <td>0.966387</td>\n",
       "      <td>0.945378</td>\n",
       "      <td>0.970588</td>\n",
       "    </tr>\n",
       "    <tr>\n",
       "      <th>precision</th>\n",
       "      <td>0.897727</td>\n",
       "      <td>0.887097</td>\n",
       "      <td>0.982036</td>\n",
       "      <td>0.953488</td>\n",
       "      <td>0.970930</td>\n",
       "    </tr>\n",
       "    <tr>\n",
       "      <th>recall</th>\n",
       "      <td>0.934911</td>\n",
       "      <td>0.976331</td>\n",
       "      <td>0.970414</td>\n",
       "      <td>0.970414</td>\n",
       "      <td>0.988166</td>\n",
       "    </tr>\n",
       "    <tr>\n",
       "      <th>f1Score</th>\n",
       "      <td>0.915942</td>\n",
       "      <td>0.929577</td>\n",
       "      <td>0.976190</td>\n",
       "      <td>0.961877</td>\n",
       "      <td>0.979472</td>\n",
       "    </tr>\n",
       "    <tr>\n",
       "      <th>ROC score</th>\n",
       "      <td>0.837021</td>\n",
       "      <td>0.835992</td>\n",
       "      <td>0.963468</td>\n",
       "      <td>0.927236</td>\n",
       "      <td>0.957851</td>\n",
       "    </tr>\n",
       "    <tr>\n",
       "      <th>PR Score</th>\n",
       "      <td>0.675414</td>\n",
       "      <td>0.695098</td>\n",
       "      <td>0.691159</td>\n",
       "      <td>0.691317</td>\n",
       "      <td>0.702039</td>\n",
       "    </tr>\n",
       "  </tbody>\n",
       "</table>\n",
       "</div>"
      ],
      "text/plain": [
       "           Logistic Regression       SVM  Random Forest  Gradient Boosting  \\\n",
       "accuracy              0.878151  0.894958       0.966387           0.945378   \n",
       "precision             0.897727  0.887097       0.982036           0.953488   \n",
       "recall                0.934911  0.976331       0.970414           0.970414   \n",
       "f1Score               0.915942  0.929577       0.976190           0.961877   \n",
       "ROC score             0.837021  0.835992       0.963468           0.927236   \n",
       "PR Score              0.675414  0.695098       0.691159           0.691317   \n",
       "\n",
       "                 DT  \n",
       "accuracy   0.970588  \n",
       "precision  0.970930  \n",
       "recall     0.988166  \n",
       "f1Score    0.979472  \n",
       "ROC score  0.957851  \n",
       "PR Score   0.702039  "
      ]
     },
     "execution_count": 145,
     "metadata": {},
     "output_type": "execute_result"
    }
   ],
   "source": [
    "import pandas as pd\n",
    "matrix = np.array([accu,prec,reca,f1Sc,ROCS,PRSC])\n",
    "\n",
    "columns = ['Logistic Regression','SVM','Random Forest','Gradient Boosting','DT']\n",
    "index = ['accuracy','precision','recall','f1Score','ROC score','PR Score']\n",
    "\n",
    "df = pd.DataFrame(data=matrix, columns=columns, index=index)\n",
    "\n",
    "# Print the matrix\n",
    "df.head(10)"
   ]
  },
  {
   "cell_type": "code",
   "execution_count": 147,
   "metadata": {},
   "outputs": [
    {
     "data": {
      "text/html": [
       "<div>\n",
       "<style scoped>\n",
       "    .dataframe tbody tr th:only-of-type {\n",
       "        vertical-align: middle;\n",
       "    }\n",
       "\n",
       "    .dataframe tbody tr th {\n",
       "        vertical-align: top;\n",
       "    }\n",
       "\n",
       "    .dataframe thead th {\n",
       "        text-align: right;\n",
       "    }\n",
       "</style>\n",
       "<table border=\"1\" class=\"dataframe\">\n",
       "  <thead>\n",
       "    <tr style=\"text-align: right;\">\n",
       "      <th></th>\n",
       "      <th>Logistic Regression</th>\n",
       "      <th>SVM</th>\n",
       "      <th>Random Forest</th>\n",
       "      <th>Gradient Boosting</th>\n",
       "      <th>DT</th>\n",
       "    </tr>\n",
       "  </thead>\n",
       "  <tbody>\n",
       "    <tr>\n",
       "      <th>accuracy</th>\n",
       "      <td>0.878</td>\n",
       "      <td>0.895</td>\n",
       "      <td>0.966</td>\n",
       "      <td>0.945</td>\n",
       "      <td>0.971</td>\n",
       "    </tr>\n",
       "    <tr>\n",
       "      <th>precision</th>\n",
       "      <td>0.898</td>\n",
       "      <td>0.887</td>\n",
       "      <td>0.982</td>\n",
       "      <td>0.953</td>\n",
       "      <td>0.971</td>\n",
       "    </tr>\n",
       "    <tr>\n",
       "      <th>recall</th>\n",
       "      <td>0.935</td>\n",
       "      <td>0.976</td>\n",
       "      <td>0.970</td>\n",
       "      <td>0.970</td>\n",
       "      <td>0.988</td>\n",
       "    </tr>\n",
       "    <tr>\n",
       "      <th>f1Score</th>\n",
       "      <td>0.916</td>\n",
       "      <td>0.930</td>\n",
       "      <td>0.976</td>\n",
       "      <td>0.962</td>\n",
       "      <td>0.979</td>\n",
       "    </tr>\n",
       "    <tr>\n",
       "      <th>ROC score</th>\n",
       "      <td>0.837</td>\n",
       "      <td>0.836</td>\n",
       "      <td>0.963</td>\n",
       "      <td>0.927</td>\n",
       "      <td>0.958</td>\n",
       "    </tr>\n",
       "  </tbody>\n",
       "</table>\n",
       "</div>"
      ],
      "text/plain": [
       "           Logistic Regression    SVM  Random Forest  Gradient Boosting     DT\n",
       "accuracy                 0.878  0.895          0.966              0.945  0.971\n",
       "precision                0.898  0.887          0.982              0.953  0.971\n",
       "recall                   0.935  0.976          0.970              0.970  0.988\n",
       "f1Score                  0.916  0.930          0.976              0.962  0.979\n",
       "ROC score                0.837  0.836          0.963              0.927  0.958"
      ]
     },
     "execution_count": 147,
     "metadata": {},
     "output_type": "execute_result"
    }
   ],
   "source": [
    "rounded_df = np.round(df, decimals=3)\n",
    "rounded_df.head()"
   ]
  },
  {
   "cell_type": "markdown",
   "metadata": {},
   "source": [
    "# comparison in model"
   ]
  },
  {
   "cell_type": "code",
   "execution_count": 120,
   "metadata": {},
   "outputs": [
    {
     "name": "stdout",
     "output_type": "stream",
     "text": [
      "Accuracy and Precision in percentage in different models:\n",
      "In LR Accuracy= 87.81512605042016 and precision= 89.77272727272727\n",
      "In RFC Accuracy= 96.63865546218487 and precision= 98.20359281437125\n",
      "In SVM Accuracy= 89.49579831932773 and precision= 88.70967741935483\n"
     ]
    }
   ],
   "source": [
    "print(\"Accuracy and Precision in percentage in different models:\")\n",
    "print(f\"In LR Accuracy= {accu_lr*100} and precision= {pre_lr*100}\")\n",
    "print(f\"In RFC Accuracy= {accu_rfc*100} and precision= {pre_rfc*100}\")\n",
    "print(f\"In SVM Accuracy= {accu_svm*100} and precision= {pre_svm*100}\")"
   ]
  },
  {
   "cell_type": "code",
   "execution_count": 121,
   "metadata": {
    "scrolled": true
   },
   "outputs": [
    {
     "data": {
      "image/png": "[encoded data removed]",
      "text/plain": [
       "<Figure size 432x288 with 1 Axes>"
      ]
     },
     "metadata": {
      "needs_background": "light"
     },
     "output_type": "display_data"
    }
   ],
   "source": [
    "import matplotlib.pyplot as plt\n",
    "import numpy as np\n",
    "\n",
    "# Sample data for precision and accuracy percentages\n",
    "categories = ['Accuracy', 'Precision']\n",
    "data = {\n",
    "    'LR': [accu_lr, pre_lr],\n",
    "    'RFC': [accu_rfc, pre_rfc],\n",
    "    'SVM': [accu_svm, pre_svm],\n",
    "}\n",
    "\n",
    "# Create a list of colors for bars\n",
    "colors = ['b', 'g', 'r']\n",
    "\n",
    "# Set the bar width\n",
    "bar_width = 0.2\n",
    "\n",
    "# Set the positions of bars on the x-axis\n",
    "x = np.arange(len(categories))\n",
    "\n",
    "# Create the subplots\n",
    "fig, ax = plt.subplots()\n",
    "\n",
    "# Create bars for each method\n",
    "for i, (method, values) in enumerate(data.items()):\n",
    "    bar_positions = x + (i * bar_width)\n",
    "    ax.bar(bar_positions, values, bar_width, label=method, color=colors[i])\n",
    "\n",
    "# Set the x-axis labels and positions\n",
    "ax.set_xticks(x + bar_width)\n",
    "ax.set_xticklabels(categories)\n",
    "\n",
    "# Set labels and title\n",
    "plt.xlabel('Metrics')\n",
    "plt.ylabel('Percentage')\n",
    "plt.title('Model Comparison')\n",
    "# Add a legend\n",
    "plt.legend()\n",
    "\n",
    "# Show the plot\n",
    "plt.tight_layout()\n",
    "plt.show()\n"
   ]
  },
  {
   "cell_type": "markdown",
   "metadata": {},
   "source": [
    "# Model manual entry"
   ]
  },
  {
   "cell_type": "code",
   "execution_count": 122,
   "metadata": {},
   "outputs": [
    {
     "data": {
      "text/plain": [
       "'manual_entry_data = [[50,59,1,0,0,1,33.0,0,0,7,5,1,0,1,1,0.0,0,1]]  # Replace with actual values\\n\\n# Make predictions for the manual entry data\\npredictions_lr = classifier.predict(manual_entry_data)\\npredictions_rfc = clf.predict(manual_entry_data)\\npredictions_svm = svm.predict(manual_entry_data)\\n\\n# Display the predictions\\nprint(\"Predicted output:\", predictions_lr)\\nprint(\"Predicted output:\", predictions_rfc)\\nprint(\"Predicted output:\", predictions_svm)'"
      ]
     },
     "execution_count": 122,
     "metadata": {},
     "output_type": "execute_result"
    }
   ],
   "source": [
    "#sample for manual testing\n",
    "'''manual_entry_data = [[50,59,1,0,0,1,33.0,0,0,7,5,1,0,1,1,0.0,0,1]]  # Replace with actual values\n",
    "\n",
    "# Make predictions for the manual entry data\n",
    "predictions_lr = classifier.predict(manual_entry_data)\n",
    "predictions_rfc = clf.predict(manual_entry_data)\n",
    "predictions_svm = svm.predict(manual_entry_data)\n",
    "\n",
    "# Display the predictions\n",
    "print(\"Predicted output:\", predictions_lr)\n",
    "print(\"Predicted output:\", predictions_rfc)\n",
    "print(\"Predicted output:\", predictions_svm)'''"
   ]
  }
 ],
 "metadata": {
  "kernelspec": {
   "display_name": "Python 3",
   "language": "python",
   "name": "python3"
  },
  "language_info": {
   "codemirror_mode": {
    "name": "ipython",
    "version": 3
   },
   "file_extension": ".py",
   "mimetype": "text/x-python",
   "name": "python",
   "nbconvert_exporter": "python",
   "pygments_lexer": "ipython3",
   "version": "3.8.5"
  }
 },
 "nbformat": 4,
 "nbformat_minor": 5
}
